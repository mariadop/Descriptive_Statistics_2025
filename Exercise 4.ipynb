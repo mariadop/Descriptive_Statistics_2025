{
 "cells": [
  {
   "cell_type": "markdown",
   "metadata": {},
   "source": [
    "# Exercise 4. - Data Cleansing"
   ]
  },
  {
   "cell_type": "markdown",
   "metadata": {},
   "source": [
    "## Handling Missing Values in Python"
   ]
  },
  {
   "cell_type": "markdown",
   "metadata": {},
   "source": [
    "![Missing values](missing.png)"
   ]
  },
  {
   "cell_type": "markdown",
   "metadata": {},
   "source": [
    "Real world data is messy and often contains a lot of missing values. \n",
    "\n",
    "There could be multiple reasons for the missing values but primarily the reason for missingness can be attributed to:\n",
    "\n",
    "| Reason for missing Data | \n",
    "| :-----------: | \n",
    "| Data doesn't exist |\n",
    "| Data not collected due to human error. | \n",
    "| Data deleted accidently |"
   ]
  },
  {
   "cell_type": "markdown",
   "metadata": {},
   "source": [
    "## A guide to handling missing values \n",
    "\n",
    "Please read this tutorial on handling missing values first, before working on dirty data this week: [TUTORIAL](a_guide_to_na.ipynb)."
   ]
  },
  {
   "cell_type": "markdown",
   "metadata": {},
   "source": [
    "# Dirty data"
   ]
  },
  {
   "cell_type": "code",
<<<<<<< HEAD
   "execution_count": null,
=======
   "execution_count": 92,
>>>>>>> dc9fb422cf2bf6ee5ac845e0c9b8b413b46a56ad
   "metadata": {},
   "outputs": [],
   "source": [
    "import pandas as pd\n",
    "import numpy as np\n",
    "from sklearn.ensemble import RandomForestClassifier\n",
    "import warnings\n",
    "import ssl\n",
    "# Suppress warnings\n",
    "warnings.filterwarnings('ignore')\n",
    "# Disable SSL verification\n",
    "ssl._create_default_https_context = ssl._create_unverified_context\n",
    "import requests\n",
    "from io import StringIO"
   ]
  },
  {
   "cell_type": "markdown",
   "metadata": {},
   "source": [
    "Load the dataset from the provided URL using pandas."
   ]
  },
  {
   "cell_type": "code",
<<<<<<< HEAD
   "execution_count": null,
=======
   "execution_count": 93,
>>>>>>> dc9fb422cf2bf6ee5ac845e0c9b8b413b46a56ad
   "metadata": {},
   "outputs": [],
   "source": [
    "url = \"https://raw.github.com/edwindj/datacleaning/master/data/dirty_iris.csv\"\n",
    "response = requests.get(url, verify=False)\n",
    "data = StringIO(response.text)\n",
    "dirty_iris = pd.read_csv(data, sep=\",\")\n",
    "print(dirty_iris.head())"
   ]
  },
  {
   "cell_type": "markdown",
   "metadata": {},
   "source": [
    "## Introduce Missing Values\n",
    "\n",
    "Randomly introduce missing values into the dataset to mimic the Python code behavior."
   ]
  },
  {
   "cell_type": "code",
<<<<<<< HEAD
   "execution_count": null,
=======
   "execution_count": 94,
>>>>>>> dc9fb422cf2bf6ee5ac845e0c9b8b413b46a56ad
   "metadata": {},
   "outputs": [],
   "source": [
    "# Load additional data\n",
    "carseats = pd.read_csv(\"https://raw.githubusercontent.com/selva86/datasets/master/Carseats.csv\")\n",
    "\n",
    "# Set random seed for reproducibility\n",
    "np.random.seed(123)\n",
    "\n",
    "# Introduce missing values in 'Income' column\n",
    "income_missing_indices = np.random.choice(carseats.index, size=20, replace=False)\n",
    "carseats.loc[income_missing_indices, 'Income'] = np.nan\n",
    "\n",
    "# Set another random seed for reproducibility\n",
    "np.random.seed(456)\n",
    "\n",
    "# Introduce missing values in 'Urban' column\n",
    "urban_missing_indices = np.random.choice(carseats.index, size=10, replace=False)\n",
    "carseats.loc[urban_missing_indices, 'Urban'] = np.nan\n",
    "\n"
   ]
  },
  {
   "cell_type": "markdown",
   "metadata": {},
   "source": [
    "# Introduction\n",
    "\n",
    "Analysis of data is a process of inspecting, cleaning, transforming, and modeling data with the goal of highlighting useful information, suggesting conclusions and supporting decision making."
   ]
  },
  {
   "cell_type": "markdown",
   "metadata": {},
   "source": [
    "![Descriptive Statistics](images/ds.png)"
   ]
  },
  {
   "cell_type": "markdown",
   "metadata": {},
   "source": [
    "Many times in the beginning we spend hours on handling problems with missing values, logical inconsistencies or outliers in our datasets. In this tutorial we will go through the most popular techniques in data cleansing.\n"
   ]
  },
  {
   "cell_type": "markdown",
   "metadata": {},
   "source": [
    "We will be working with the messy dataset `iris`. Originally published at UCI Machine Learning Repository: Iris Data Set, this small dataset from 1936 is often used for testing out machine learning algorithms and visualizations. Each row of the table represents an iris flower, including its species and dimensions of its botanical parts, sepal and petal, in centimeters.\n",
    "\n",
    "Take a look at this dataset here:"
   ]
  },
  {
   "cell_type": "code",
<<<<<<< HEAD
   "execution_count": null,
   "metadata": {},
   "outputs": [],
=======
   "execution_count": 95,
   "metadata": {},
   "outputs": [
    {
     "data": {
      "text/html": [
       "<div>\n",
       "<style scoped>\n",
       "    .dataframe tbody tr th:only-of-type {\n",
       "        vertical-align: middle;\n",
       "    }\n",
       "\n",
       "    .dataframe tbody tr th {\n",
       "        vertical-align: top;\n",
       "    }\n",
       "\n",
       "    .dataframe thead th {\n",
       "        text-align: right;\n",
       "    }\n",
       "</style>\n",
       "<table border=\"1\" class=\"dataframe\">\n",
       "  <thead>\n",
       "    <tr style=\"text-align: right;\">\n",
       "      <th></th>\n",
       "      <th>Sepal.Length</th>\n",
       "      <th>Sepal.Width</th>\n",
       "      <th>Petal.Length</th>\n",
       "      <th>Petal.Width</th>\n",
       "      <th>Species</th>\n",
       "    </tr>\n",
       "  </thead>\n",
       "  <tbody>\n",
       "    <tr>\n",
       "      <th>0</th>\n",
       "      <td>6.4</td>\n",
       "      <td>3.2</td>\n",
       "      <td>4.5</td>\n",
       "      <td>1.5</td>\n",
       "      <td>versicolor</td>\n",
       "    </tr>\n",
       "    <tr>\n",
       "      <th>1</th>\n",
       "      <td>6.3</td>\n",
       "      <td>3.3</td>\n",
       "      <td>6.0</td>\n",
       "      <td>2.5</td>\n",
       "      <td>virginica</td>\n",
       "    </tr>\n",
       "    <tr>\n",
       "      <th>2</th>\n",
       "      <td>6.2</td>\n",
       "      <td>NaN</td>\n",
       "      <td>5.4</td>\n",
       "      <td>2.3</td>\n",
       "      <td>virginica</td>\n",
       "    </tr>\n",
       "    <tr>\n",
       "      <th>3</th>\n",
       "      <td>5.0</td>\n",
       "      <td>3.4</td>\n",
       "      <td>1.6</td>\n",
       "      <td>0.4</td>\n",
       "      <td>setosa</td>\n",
       "    </tr>\n",
       "    <tr>\n",
       "      <th>4</th>\n",
       "      <td>5.7</td>\n",
       "      <td>2.6</td>\n",
       "      <td>3.5</td>\n",
       "      <td>1.0</td>\n",
       "      <td>versicolor</td>\n",
       "    </tr>\n",
       "    <tr>\n",
       "      <th>...</th>\n",
       "      <td>...</td>\n",
       "      <td>...</td>\n",
       "      <td>...</td>\n",
       "      <td>...</td>\n",
       "      <td>...</td>\n",
       "    </tr>\n",
       "    <tr>\n",
       "      <th>145</th>\n",
       "      <td>6.7</td>\n",
       "      <td>3.1</td>\n",
       "      <td>5.6</td>\n",
       "      <td>2.4</td>\n",
       "      <td>virginica</td>\n",
       "    </tr>\n",
       "    <tr>\n",
       "      <th>146</th>\n",
       "      <td>5.6</td>\n",
       "      <td>3.0</td>\n",
       "      <td>4.5</td>\n",
       "      <td>1.5</td>\n",
       "      <td>versicolor</td>\n",
       "    </tr>\n",
       "    <tr>\n",
       "      <th>147</th>\n",
       "      <td>5.2</td>\n",
       "      <td>3.5</td>\n",
       "      <td>1.5</td>\n",
       "      <td>0.2</td>\n",
       "      <td>setosa</td>\n",
       "    </tr>\n",
       "    <tr>\n",
       "      <th>148</th>\n",
       "      <td>6.4</td>\n",
       "      <td>3.1</td>\n",
       "      <td>NaN</td>\n",
       "      <td>1.8</td>\n",
       "      <td>virginica</td>\n",
       "    </tr>\n",
       "    <tr>\n",
       "      <th>149</th>\n",
       "      <td>5.8</td>\n",
       "      <td>2.6</td>\n",
       "      <td>4.0</td>\n",
       "      <td>NaN</td>\n",
       "      <td>versicolor</td>\n",
       "    </tr>\n",
       "  </tbody>\n",
       "</table>\n",
       "<p>150 rows × 5 columns</p>\n",
       "</div>"
      ],
      "text/plain": [
       "     Sepal.Length  Sepal.Width  Petal.Length  Petal.Width     Species\n",
       "0             6.4          3.2           4.5          1.5  versicolor\n",
       "1             6.3          3.3           6.0          2.5   virginica\n",
       "2             6.2          NaN           5.4          2.3   virginica\n",
       "3             5.0          3.4           1.6          0.4      setosa\n",
       "4             5.7          2.6           3.5          1.0  versicolor\n",
       "..            ...          ...           ...          ...         ...\n",
       "145           6.7          3.1           5.6          2.4   virginica\n",
       "146           5.6          3.0           4.5          1.5  versicolor\n",
       "147           5.2          3.5           1.5          0.2      setosa\n",
       "148           6.4          3.1           NaN          1.8   virginica\n",
       "149           5.8          2.6           4.0          NaN  versicolor\n",
       "\n",
       "[150 rows x 5 columns]"
      ]
     },
     "execution_count": 95,
     "metadata": {},
     "output_type": "execute_result"
    }
   ],
>>>>>>> dc9fb422cf2bf6ee5ac845e0c9b8b413b46a56ad
   "source": [
    "dirty_iris"
   ]
  },
  {
   "cell_type": "markdown",
   "metadata": {},
   "source": [
    "## Detecting NA\n",
    "\n",
    "A missing value, represented by NaN in Python, is a placeholder for a datum of which the type is known but its value isn't. Therefore, it is impossible to perform statistical analysis on data where one or more values in the data are missing. One may choose to either omit elements from a dataset that contain missing values or to impute a value, but missingness is something to be dealt with prior to any analysis.\n"
   ]
  },
  {
   "cell_type": "markdown",
   "metadata": {},
   "source": [
    "![Descriptive Statistics](images/ds.png)"
   ]
  },
  {
   "cell_type": "markdown",
   "metadata": {},
   "source": [
    "Can you see that many values in our dataset have status NaN = Not Available? Count (or plot), how many (%) of all 150 rows is complete.\n"
   ]
  },
  {
   "cell_type": "code",
<<<<<<< HEAD
   "execution_count": null,
=======
   "execution_count": 96,
>>>>>>> dc9fb422cf2bf6ee5ac845e0c9b8b413b46a56ad
   "metadata": {},
   "outputs": [],
   "source": [
    "# Count the number of complete cases (rows without any missing values)\n",
    "complete_cases = dirty_iris.dropna().shape[0]\n",
    "\n",
    "# Calculate the percentage of complete cases\n",
    "percentage_complete = (complete_cases / dirty_iris.shape[0]) * 100\n",
    "\n",
    "print(f\"Number of complete cases: {complete_cases}\")\n",
    "print(f\"Percentage of complete cases: {percentage_complete:.2f}%\")"
   ]
  },
  {
   "cell_type": "markdown",
   "metadata": {},
   "source": [
    "Does the data contain other special values? If it does, replace them with NA."
   ]
  },
  {
   "cell_type": "code",
<<<<<<< HEAD
   "execution_count": null,
=======
   "execution_count": 97,
>>>>>>> dc9fb422cf2bf6ee5ac845e0c9b8b413b46a56ad
   "metadata": {},
   "outputs": [],
   "source": [
    "# Define a function to check for special values\n",
    "def is_special(x):\n",
    "    if np.issubdtype(x.dtype, np.number):\n",
    "        return ~np.isfinite(x)\n",
    "    else:\n",
    "        return pd.isna(x)\n",
    "\n",
    "# Apply the function to each column and replace special values with NaN\n",
    "for col in dirty_iris.columns:\n",
    "    dirty_iris[col] = dirty_iris[col].apply(lambda x: np.nan if is_special(pd.Series([x]))[0] else x)\n",
    "\n",
    "# Display summary of the data\n",
    "print(dirty_iris.describe(include='all'))"
   ]
  },
  {
   "cell_type": "markdown",
   "metadata": {},
   "source": [
    "## Checking consistency\n",
    "\n",
    "Consistent data are technically correct data that are fit for statistical analysis. They are data in which missing values, special values, (obvious) errors and outliers are either removed, corrected or imputed. The data are consistent with constraints based on real-world knowledge about the subject that the data describe."
   ]
  },
  {
   "cell_type": "markdown",
   "metadata": {},
   "source": [
    "![Iris](images/iris.png)"
   ]
  },
  {
   "cell_type": "markdown",
   "metadata": {},
   "source": [
    "We have the following background knowledge:\n",
    "\n",
    "-   Species should be one of the following values: setosa, versicolor or virginica.\n",
    "\n",
    "-   All measured numerical properties of an iris should be positive.\n",
    "\n",
    "-   The petal length of an iris is at least 2 times its petal width.\n",
    "\n",
    "-   The sepal length of an iris cannot exceed 30 cm.\n",
    "\n",
    "-   The sepals of an iris are longer than its petals.\n",
    "\n",
    "Define these rules in a separate object 'RULES' and read them into Python. Print the resulting constraint object."
   ]
  },
  {
   "cell_type": "code",
<<<<<<< HEAD
   "execution_count": null,
=======
   "execution_count": 98,
>>>>>>> dc9fb422cf2bf6ee5ac845e0c9b8b413b46a56ad
   "metadata": {},
   "outputs": [],
   "source": [
    "# Define the rules as functions\n",
    "def check_rules(df):\n",
    "    rules = {\n",
    "        \"Sepal.Length <= 30\": df[\"Sepal.Length\"] <= 30,\n",
    "        \"Species in ['setosa', 'versicolor', 'virginica']\": df[\"Species\"].isin(['setosa', 'versicolor', 'virginica']),\n",
    "        \"Sepal.Length > 0\": df[\"Sepal.Length\"] > 0,\n",
    "        \"Sepal.Width > 0\": df[\"Sepal.Width\"] > 0,\n",
    "        \"Petal.Length > 0\": df[\"Petal.Length\"] > 0,\n",
    "        \"Petal.Width > 0\": df[\"Petal.Width\"] > 0,\n",
    "        \"Petal.Length >= 2 * Petal.Width\": df[\"Petal.Length\"] >= 2 * df[\"Petal.Width\"],\n",
    "        \"Sepal.Length > Petal.Length\": df[\"Sepal.Length\"] > df[\"Petal.Length\"]\n",
    "    }\n",
    "    return rules\n",
    "\n",
    "# Apply the rules to the dataframe\n",
    "rules = check_rules(dirty_iris)\n",
    "\n",
    "# Print the rules\n",
    "for rule, result in rules.items():\n",
    "    print(f\"{rule}: {result.all()}\")"
   ]
  },
  {
   "cell_type": "markdown",
   "metadata": {},
   "source": [
    "Now we are ready to determine how often each rule is broken (violations). Also we can summarize and plot the result."
   ]
  },
  {
   "cell_type": "code",
<<<<<<< HEAD
   "execution_count": null,
=======
   "execution_count": 99,
>>>>>>> dc9fb422cf2bf6ee5ac845e0c9b8b413b46a56ad
   "metadata": {},
   "outputs": [],
   "source": [
    "# Check for rule violations\n",
    "violations = {rule: ~result for rule, result in rules.items()}\n",
    "\n",
    "# Summarize the violations\n",
    "summary = {rule: result.sum() for rule, result in violations.items()}\n",
    "\n",
    "# Print the summary of violations\n",
    "print(\"Summary of Violations:\")\n",
    "for rule, count in summary.items():\n",
    "    print(f\"{rule}: {count} violations\")"
   ]
  },
  {
   "cell_type": "markdown",
   "metadata": {},
   "source": [
    "What percentage of the data has no errors?"
   ]
  },
  {
   "cell_type": "code",
<<<<<<< HEAD
   "execution_count": null,
=======
   "execution_count": 100,
>>>>>>> dc9fb422cf2bf6ee5ac845e0c9b8b413b46a56ad
   "metadata": {},
   "outputs": [],
   "source": [
    "import matplotlib.pyplot as plt\n",
    "# Plot the violations\n",
    "violation_counts = pd.Series(summary)\n",
    "ax = violation_counts.plot(kind='bar', figsize=(10, 6))\n",
    "plt.title('Summary of Rule Violations')\n",
    "plt.xlabel('Rules')\n",
    "plt.ylabel('Number of Violations')\n",
    "\n",
    "# Add percentage labels above the bars\n",
    "for p in ax.patches:\n",
    "    ax.annotate(f'{p.get_height() / len(dirty_iris) * 100:.1f}%', \n",
    "                (p.get_x() + p.get_width() / 2., p.get_height()), \n",
    "                ha='center', va='center', xytext=(0, 10), \n",
    "                textcoords='offset points')\n",
    "\n",
    "plt.show()"
   ]
  },
  {
   "cell_type": "markdown",
   "metadata": {},
   "source": [
    "Find out which observations have too long sepals using the result of violations."
   ]
  },
  {
   "cell_type": "code",
<<<<<<< HEAD
   "execution_count": null,
=======
   "execution_count": 101,
>>>>>>> dc9fb422cf2bf6ee5ac845e0c9b8b413b46a56ad
   "metadata": {},
   "outputs": [],
   "source": [
    "# Check for rule violations\n",
    "violations = {rule: ~result for rule, result in rules.items()}\n",
    "# Combine violations into a DataFrame\n",
    "violated_df = pd.DataFrame(violations)\n",
    "violated_rows = dirty_iris[violated_df[\"Sepal.Length <= 30\"]]\n",
    "print(violated_rows)"
   ]
  },
  {
   "cell_type": "markdown",
   "metadata": {},
   "source": [
    "Find outliers in sepal length using boxplot approach. Retrieve the corresponding observations and look at the other values. Any ideas what might have happened? Set the outliers to NA (or a value that you find more appropiate)"
   ]
  },
  {
   "cell_type": "code",
<<<<<<< HEAD
   "execution_count": null,
=======
   "execution_count": 102,
>>>>>>> dc9fb422cf2bf6ee5ac845e0c9b8b413b46a56ad
   "metadata": {},
   "outputs": [],
   "source": [
    "# Boxplot for Sepal.Length\n",
    "plt.figure(figsize=(10, 6))\n",
    "plt.boxplot(dirty_iris['Sepal.Length'].dropna())\n",
    "plt.title('Boxplot of Sepal Length')\n",
    "plt.ylabel('Sepal Length')\n",
    "plt.show()"
   ]
  },
  {
   "cell_type": "code",
<<<<<<< HEAD
   "execution_count": null,
=======
   "execution_count": 103,
>>>>>>> dc9fb422cf2bf6ee5ac845e0c9b8b413b46a56ad
   "metadata": {},
   "outputs": [],
   "source": [
    "# Find outliers in Sepal.Length\n",
    "outliers = dirty_iris['Sepal.Length'][np.abs(dirty_iris['Sepal.Length'] - dirty_iris['Sepal.Length'].mean()) > (1.5 * dirty_iris['Sepal.Length'].std())]\n",
    "outliers_idx = dirty_iris.index[dirty_iris['Sepal.Length'].isin(outliers)]\n",
    "\n",
    "# Print the rows with outliers\n",
    "print(\"Outliers:\")\n",
    "print(dirty_iris.loc[outliers_idx])"
   ]
  },
  {
   "cell_type": "markdown",
   "metadata": {},
   "source": [
    "They all seem to be too big... may they were measured in mm i.o cm?"
   ]
  },
  {
   "cell_type": "code",
<<<<<<< HEAD
   "execution_count": null,
=======
   "execution_count": 104,
>>>>>>> dc9fb422cf2bf6ee5ac845e0c9b8b413b46a56ad
   "metadata": {},
   "outputs": [],
   "source": [
    "# Adjust the outliers (assuming they were measured in mm instead of cm)\n",
    "dirty_iris.loc[outliers_idx, ['Sepal.Length', 'Sepal.Width', 'Petal.Length', 'Petal.Width']] /= 10\n",
    "\n",
    "# Summary of the adjusted data\n",
    "print(\"Summary of adjusted data:\")\n",
    "print(dirty_iris.describe())"
   ]
  },
  {
   "cell_type": "markdown",
   "metadata": {},
   "source": [
    "\n",
    "Note that simple boxplot shows an extra outlier!"
   ]
  },
  {
   "cell_type": "code",
<<<<<<< HEAD
   "execution_count": null,
=======
   "execution_count": 105,
>>>>>>> dc9fb422cf2bf6ee5ac845e0c9b8b413b46a56ad
   "metadata": {},
   "outputs": [],
   "source": [
    "import seaborn as sns\n",
    "plt.figure(figsize=(10, 6))\n",
    "sns.boxplot(x='Species', y='Sepal.Length', data=dirty_iris)\n",
    "plt.title('Boxplot of Sepal Length by Species')\n",
    "plt.xlabel('Species')\n",
    "plt.ylabel('Sepal Length')\n",
    "plt.show()"
   ]
  },
  {
   "cell_type": "markdown",
   "metadata": {},
   "source": [
    "## Correcting\n",
    "\n",
    "Replace non positive values from Sepal.Width with NA:"
   ]
  },
  {
   "cell_type": "code",
<<<<<<< HEAD
   "execution_count": null,
=======
   "execution_count": 106,
>>>>>>> dc9fb422cf2bf6ee5ac845e0c9b8b413b46a56ad
   "metadata": {},
   "outputs": [],
   "source": [
    "# Define the correction rule\n",
    "def correct_sepal_width(df):\n",
    "    df.loc[(~df['Sepal.Width'].isna()) & (df['Sepal.Width'] <= 0), 'Sepal.Width'] = np.nan\n",
    "    return df\n",
    "\n",
    "# Apply the correction rule to the dataframe\n",
    "mydata_corrected = correct_sepal_width(dirty_iris)\n",
    "\n",
    "# Print the corrected dataframe\n",
    "print(mydata_corrected)"
   ]
  },
  {
   "cell_type": "markdown",
   "metadata": {},
   "source": [
    "Replace all erroneous values with NA using (the result of) localizeErrors:"
   ]
  },
  {
   "cell_type": "code",
<<<<<<< HEAD
   "execution_count": null,
=======
   "execution_count": 107,
>>>>>>> dc9fb422cf2bf6ee5ac845e0c9b8b413b46a56ad
   "metadata": {},
   "outputs": [],
   "source": [
    "# Apply the rules to the dataframe\n",
    "rules = check_rules(dirty_iris)\n",
    "violations = {rule: ~result for rule, result in rules.items()}\n",
    "violated_df = pd.DataFrame(violations)\n",
    "\n",
    "# Localize errors and set them to NA\n",
    "for col in violated_df.columns:\n",
    "    dirty_iris.loc[violated_df[col], col.split()[0]] = np.nan"
   ]
  },
  {
   "cell_type": "markdown",
   "metadata": {},
   "source": [
    "## NA's pattern detection\n",
    "\n",
    "Here we are going to use **missingno** library to diagnose the missingness pattern for the 'dirty_iris' dataset."
   ]
  },
  {
   "cell_type": "code",
<<<<<<< HEAD
   "execution_count": null,
=======
   "execution_count": 108,
>>>>>>> dc9fb422cf2bf6ee5ac845e0c9b8b413b46a56ad
   "metadata": {},
   "outputs": [],
   "source": [
    "import missingno as msno"
   ]
  },
  {
   "cell_type": "markdown",
   "metadata": {},
   "source": [
    "### Matrix Plot (msno.matrix):\n",
    "\n",
    "This visualization shows which values are missing in each column. Each bar represents a column, and white spaces in the bars indicate missing values.\n",
    "\n",
    "If you see many white spaces in one column, it means that column has a lot of missing data.\n",
    "If the white spaces are randomly scattered, the missing data might be random. \n",
    "If they are clustered in specific areas, it might indicate a pattern."
   ]
  },
  {
   "cell_type": "code",
<<<<<<< HEAD
   "execution_count": null,
=======
   "execution_count": 109,
>>>>>>> dc9fb422cf2bf6ee5ac845e0c9b8b413b46a56ad
   "metadata": {},
   "outputs": [],
   "source": [
    "msno.matrix(dirty_iris);"
   ]
  },
  {
   "cell_type": "markdown",
   "metadata": {},
   "source": [
    "### Heatmap Plot (msno.heatmap):\n",
    "\n",
    "This visualization shows the correlations between missing values in different columns.\n",
    "If two columns have a high correlation (dark colors), it means that if one column has missing values, the other column is also likely to have missing values.\n",
    "\n",
    "Low correlations (light colors) indicate that missing values in one column are not related to missing values in another column."
   ]
  },
  {
   "cell_type": "code",
<<<<<<< HEAD
   "execution_count": null,
=======
   "execution_count": 110,
>>>>>>> dc9fb422cf2bf6ee5ac845e0c9b8b413b46a56ad
   "metadata": {},
   "outputs": [],
   "source": [
    "msno.heatmap(dirty_iris);"
   ]
  },
  {
   "cell_type": "markdown",
   "metadata": {},
   "source": [
    "### Dendrogram Plot (msno.dendrogram):\n",
    "\n",
    "This visualization groups columns based on the similarity of their missing data patterns.\n",
    "Columns that are close to each other in the dendrogram have similar patterns of missing data.\n",
    "\n",
    "This can help identify groups of columns that have similar issues with missing data.\n",
    "\n",
    "Based on these visualizations, we can identify which columns have the most missing data, whether the missing data is random or patterned, and which columns have similar patterns of missing data."
   ]
  },
  {
   "cell_type": "code",
<<<<<<< HEAD
   "execution_count": null,
=======
   "execution_count": 111,
>>>>>>> dc9fb422cf2bf6ee5ac845e0c9b8b413b46a56ad
   "metadata": {},
   "outputs": [],
   "source": [
    "msno.dendrogram(dirty_iris);"
   ]
  },
  {
   "cell_type": "markdown",
   "metadata": {},
   "source": [
    "*Based on the dendrogram plot, we can interpret the pattern of missing data in the \"dirty iris\" dataset as follows:*\n",
    "\n",
    "**Grouping of Columns:**\n",
    "\n",
    "The dendrogram shows that the columns \"Species\" and \"Petal.Width\" are grouped together, indicating that they have similar patterns of missing data.\n",
    "\n",
    "Similarly, \"Sepal.Width\" and \"Petal.Length\" are grouped together, suggesting they also share a similar pattern of missing data.\n",
    "\n",
    "\"Sepal.Length\" is somewhat separate from the other groups, indicating it has a different pattern of missing data compared to the other columns.\n",
    "\n",
    "**Pattern of Missing Data:**\n",
    "\n",
    "The grouping suggests that missing data in \"Species\" is likely to be associated with missing data in \"Petal.Width\".\n",
    "\n",
    "Similarly, missing data in \"Sepal.Width\" is likely to be associated with missing data in \"Petal.Length\".\n",
    "\n",
    "\"Sepal.Length\" appears to have a distinct pattern of missing data that is not strongly associated with the other columns.\n",
    "\n",
    "*From this dendrogram, we can infer that the missing data is not completely random. Instead, there are specific patterns where certain columns tend to have missing data together. This indicates a systematic pattern of missing data rather than a purely random one.*"
   ]
  },
  {
   "cell_type": "markdown",
   "metadata": {},
   "source": [
    "## Imputing NA's"
   ]
  },
  {
   "cell_type": "markdown",
   "metadata": {},
   "source": [
    "Imputation is the process of estimating or deriving values for fields where data is missing. There is a vast body of literature on imputation methods and it goes beyond the scope of this tutorial to discuss all of them.\n",
    "\n",
    "There is no one single best imputation method that works in all cases. The imputation model of choice depends on what auxiliary information is available and whether there are (multivariate) edit restrictions on the data to be imputed. \n",
    "\n",
    "The availability of Python software for imputation under edit restrictions is, to our best knowledge, limited. However, a viable strategy for imputing numerical data is to first impute missing values without restrictions, and then minimally adjust the imputed values so that the restrictions are obeyed. Separately, these methods are available in Python.\n",
    "\n",
    "We can mention several approaches to imputation:\n",
    "\n",
    "1.  For the **quantitative** variables:\n",
    "\n",
    "-   imputing by **mean**/**median**/**mode**\n",
    "\n",
    "-   **hotdeck** imputation\n",
    "\n",
    "-   **KNN** -- K-nearest-neighbors approach\n",
    "\n",
    "-   **RPART** -- random forests multivariate approach\n",
    "\n",
    "-   **mice** - Multivariate Imputation by Chained Equations approach\n",
    "\n",
    "2.  For the **qualitative** variables:\n",
    "\n",
    "-   imputing by **mode**\n",
    "\n",
    "-   **RPART** -- random forests multivariate approach\n",
    "\n",
    "-   **mice** - Multivariate Imputation by Chained Equations approach\n",
    "\n",
    "    ... and many others. Please read the theoretical background if you are interested in those techniques.\n",
    "\n"
   ]
  },
  {
   "cell_type": "markdown",
   "metadata": {},
   "source": [
    "***Exercise 1.*** Use ***kNN*** imputation ('sklearn' package) to impute all missing values. The KNNImputer from sklearn requires all data to be numeric. Since our dataset contains categorical data (e.g., the Species column), you need to handle these columns separately. One approach is to use one-hot encoding for categorical variables before applying the imputer."
   ]
  },
  {
   "cell_type": "code",
<<<<<<< HEAD
   "execution_count": null,
=======
   "execution_count": 112,
>>>>>>> dc9fb422cf2bf6ee5ac845e0c9b8b413b46a56ad
   "metadata": {},
   "outputs": [],
   "source": [
    "from sklearn.impute import KNNImputer\n",
    "from sklearn.preprocessing import OneHotEncoder\n",
    "# Replace infinite values with NaN\n",
    "dirty_iris.replace([np.inf, -np.inf], np.nan, inplace=True)\n",
    "\n",
    "# Separate numeric and categorical columns\n",
    "numeric_cols = dirty_iris.select_dtypes(include=[np.number]).columns\n",
    "categorical_cols = dirty_iris.select_dtypes(exclude=[np.number]).columns\n",
    "# One-hot encode categorical columns\n",
    "encoder = OneHotEncoder(sparse_output=False, handle_unknown='ignore')\n",
    "\n",
    "encoded_categorical = pd.DataFrame(encoder.fit_transform(dirty_iris[categorical_cols]), columns=encoder.get_feature_names_out(categorical_cols))\n",
    "\n",
    "# Combine numeric and encoded categorical columns\n",
    "combined_data = pd.concat([dirty_iris[numeric_cols], encoded_categorical], axis=1)\n",
    "\n",
    "# Initialize the KNNImputer\n",
    "imputer = KNNImputer(n_neighbors=3)\n",
    "\n",
    "# Perform kNN imputation\n",
    "imputed_data = imputer.fit_transform(combined_data)\n",
    "\n",
    "# Convert the imputed data back to a DataFrame\n",
    "imputed_df = pd.DataFrame(imputed_data, columns=combined_data.columns)\n",
    "\n",
    "# Decode the one-hot encoded columns back to original categorical columns\n",
    "decoded_categorical = pd.DataFrame(encoder.inverse_transform(imputed_df[encoded_categorical.columns]), columns=categorical_cols)\n",
    "\n",
    "# Combine numeric and decoded categorical columns\n",
    "final_imputed_data = pd.concat([imputed_df[numeric_cols], decoded_categorical], axis=1)\n",
    "\n",
    "# Print the imputed data\n",
    "print(final_imputed_data)"
   ]
  },
  {
   "cell_type": "markdown",
   "metadata": {},
   "source": [
    "## Transformations\n",
    "\n",
    "Finally, we sometimes encounter the situation where we have problems with skewed distributions or we just want to transform, recode or perform discretization. Let's review some of the most popular transformation methods.\n",
    "\n",
    "First, standardization (also known as normalization):\n",
    "\n",
    "-   **Z-score** approach - standardization procedure, using the formula: $z=\\frac{x-\\mu}{\\sigma}$ where $\\mu$ = mean and $\\sigma$ = standard deviation. Z-scores are also known as standardized scores; they are scores (or data values) that have been given a common *standard*. This standard is a mean of zero and a standard deviation of 1.\n",
    "\n",
    "-   **minmax** approach - An alternative approach to Z-score normalization (or standardization) is the so-called MinMax scaling (often also simply called \"normalization\" - a common cause for ambiguities). In this approach, the data is scaled to a fixed range - usually 0 to 1. The cost of having this bounded range - in contrast to standardization - is that we will end up with smaller standard deviations, which can suppress the effect of outliers. If you would like to perform MinMax scaling - simply substract minimum value and divide it by range:$(x-min)/(max-min)$\n",
    "\n",
    "In order to solve problems with very skewed distributions we can also use several types of simple transformations:\n",
    "\n",
    "-   log\n",
    "-   log+1\n",
    "-   sqrt\n",
    "-   x\\^2\n",
    "-   x\\^3"
   ]
  },
  {
   "cell_type": "markdown",
   "metadata": {},
   "source": [
    "***Exercise 2.*** Standardize incomes and present the transformed distribution of incomes on boxplot."
   ]
  },
  {
   "cell_type": "code",
<<<<<<< HEAD
   "execution_count": null,
=======
   "execution_count": 113,
>>>>>>> dc9fb422cf2bf6ee5ac845e0c9b8b413b46a56ad
   "metadata": {},
   "outputs": [],
   "source": [
    "# your code goes here"
   ]
  },
  {
   "cell_type": "markdown",
   "metadata": {},
   "source": [
    "## Binning\n",
    "\n",
    "Sometimes we just would like to perform so called 'binning' procedure to be able to analyze our categorical data, to compare several categorical variables, to construct statistical models etc. Thanks to the 'binning' function we can transform quantitative variables into categorical using several methods:\n",
    "\n",
    "-   **quantile** - automatic binning by quantile of its distribution\n",
    "\n",
    "-   **equal** - binning to achieve fixed length of intervals\n",
    "\n",
    "-   **pretty** - a compromise between the 2 mentioned above\n",
    "\n",
    "-   **kmeans** - categorization using the K-Means algorithm\n",
    "\n",
    "-   **bclust** - categorization using the bagged clustering algorithm"
   ]
  },
  {
   "cell_type": "markdown",
   "metadata": {},
   "source": [
    "**Exercise 3.** Using quantile approach perform binning of the variable 'Income'."
   ]
  },
  {
   "cell_type": "code",
<<<<<<< HEAD
   "execution_count": null,
=======
   "execution_count": 114,
>>>>>>> dc9fb422cf2bf6ee5ac845e0c9b8b413b46a56ad
   "metadata": {},
   "outputs": [],
   "source": [
    "# your code goes here"
   ]
  },
  {
   "cell_type": "markdown",
   "metadata": {},
   "source": [
    "**Exercise 4.** Recode the original distribution of incomes using fixed length of intervals and assign them labels.\n"
   ]
  },
  {
   "cell_type": "code",
<<<<<<< HEAD
   "execution_count": null,
=======
   "execution_count": 115,
>>>>>>> dc9fb422cf2bf6ee5ac845e0c9b8b413b46a56ad
   "metadata": {},
   "outputs": [],
   "source": [
    "# your code goes here"
   ]
  },
  {
   "cell_type": "markdown",
   "metadata": {},
   "source": [
    "In case of statistical modeling (i.e. credit scoring purposes) - we need to be aware of the fact, that the ***optimal*** discretization of the original distribution must be achieved. The '*binning_by*' function comes with some help here."
   ]
  },
  {
   "cell_type": "markdown",
   "metadata": {},
   "source": [
    "## Optimal binning with binary target"
   ]
  },
  {
   "cell_type": "markdown",
   "metadata": {},
   "source": [
    "**Exercise 5.** Perform discretization of the variable 'Advertising' using optimal binning."
   ]
  },
  {
   "cell_type": "code",
<<<<<<< HEAD
   "execution_count": null,
=======
   "execution_count": 116,
>>>>>>> dc9fb422cf2bf6ee5ac845e0c9b8b413b46a56ad
   "metadata": {},
   "outputs": [],
   "source": [
    "from optbinning import OptimalBinning\n",
    "from sklearn.datasets import load_breast_cancer\n",
    "\n",
    "data = load_breast_cancer()\n",
    "df = pd.DataFrame(data.data, columns=data.feature_names)"
   ]
  },
  {
   "cell_type": "markdown",
   "metadata": {},
   "source": [
    "We choose a variable to discretize and the binary target."
   ]
  },
  {
   "cell_type": "code",
   "execution_count": 117,
   "metadata": {},
   "outputs": [],
   "source": [
    "variable = \"mean radius\"\n",
    "x = df[variable].values\n",
    "y = data.target"
   ]
  },
  {
   "cell_type": "markdown",
   "metadata": {},
   "source": [
    "Import and instantiate an OptimalBinning object class. We pass the variable name, its data type, and a solver, in this case, we choose the constraint programming solver."
   ]
  },
  {
   "cell_type": "code",
   "execution_count": 118,
   "metadata": {},
   "outputs": [],
   "source": [
    "optb = OptimalBinning(name=variable, dtype=\"numerical\", solver=\"cp\")"
   ]
  },
  {
   "cell_type": "markdown",
   "metadata": {},
   "source": [
    "We fit the optimal binning object with arrays x and y."
   ]
  },
  {
   "cell_type": "code",
   "execution_count": 119,
   "metadata": {},
   "outputs": [
    {
     "data": {
      "text/html": [
       "<style>#sk-container-id-4 {\n",
       "  /* Definition of color scheme common for light and dark mode */\n",
       "  --sklearn-color-text: #000;\n",
       "  --sklearn-color-text-muted: #666;\n",
       "  --sklearn-color-line: gray;\n",
       "  /* Definition of color scheme for unfitted estimators */\n",
       "  --sklearn-color-unfitted-level-0: #fff5e6;\n",
       "  --sklearn-color-unfitted-level-1: #f6e4d2;\n",
       "  --sklearn-color-unfitted-level-2: #ffe0b3;\n",
       "  --sklearn-color-unfitted-level-3: chocolate;\n",
       "  /* Definition of color scheme for fitted estimators */\n",
       "  --sklearn-color-fitted-level-0: #f0f8ff;\n",
       "  --sklearn-color-fitted-level-1: #d4ebff;\n",
       "  --sklearn-color-fitted-level-2: #b3dbfd;\n",
       "  --sklearn-color-fitted-level-3: cornflowerblue;\n",
       "\n",
       "  /* Specific color for light theme */\n",
       "  --sklearn-color-text-on-default-background: var(--sg-text-color, var(--theme-code-foreground, var(--jp-content-font-color1, black)));\n",
       "  --sklearn-color-background: var(--sg-background-color, var(--theme-background, var(--jp-layout-color0, white)));\n",
       "  --sklearn-color-border-box: var(--sg-text-color, var(--theme-code-foreground, var(--jp-content-font-color1, black)));\n",
       "  --sklearn-color-icon: #696969;\n",
       "\n",
       "  @media (prefers-color-scheme: dark) {\n",
       "    /* Redefinition of color scheme for dark theme */\n",
       "    --sklearn-color-text-on-default-background: var(--sg-text-color, var(--theme-code-foreground, var(--jp-content-font-color1, white)));\n",
       "    --sklearn-color-background: var(--sg-background-color, var(--theme-background, var(--jp-layout-color0, #111)));\n",
       "    --sklearn-color-border-box: var(--sg-text-color, var(--theme-code-foreground, var(--jp-content-font-color1, white)));\n",
       "    --sklearn-color-icon: #878787;\n",
       "  }\n",
       "}\n",
       "\n",
       "#sk-container-id-4 {\n",
       "  color: var(--sklearn-color-text);\n",
       "}\n",
       "\n",
       "#sk-container-id-4 pre {\n",
       "  padding: 0;\n",
       "}\n",
       "\n",
       "#sk-container-id-4 input.sk-hidden--visually {\n",
       "  border: 0;\n",
       "  clip: rect(1px 1px 1px 1px);\n",
       "  clip: rect(1px, 1px, 1px, 1px);\n",
       "  height: 1px;\n",
       "  margin: -1px;\n",
       "  overflow: hidden;\n",
       "  padding: 0;\n",
       "  position: absolute;\n",
       "  width: 1px;\n",
       "}\n",
       "\n",
       "#sk-container-id-4 div.sk-dashed-wrapped {\n",
       "  border: 1px dashed var(--sklearn-color-line);\n",
       "  margin: 0 0.4em 0.5em 0.4em;\n",
       "  box-sizing: border-box;\n",
       "  padding-bottom: 0.4em;\n",
       "  background-color: var(--sklearn-color-background);\n",
       "}\n",
       "\n",
       "#sk-container-id-4 div.sk-container {\n",
       "  /* jupyter's `normalize.less` sets `[hidden] { display: none; }`\n",
       "     but bootstrap.min.css set `[hidden] { display: none !important; }`\n",
       "     so we also need the `!important` here to be able to override the\n",
       "     default hidden behavior on the sphinx rendered scikit-learn.org.\n",
       "     See: https://github.com/scikit-learn/scikit-learn/issues/21755 */\n",
       "  display: inline-block !important;\n",
       "  position: relative;\n",
       "}\n",
       "\n",
       "#sk-container-id-4 div.sk-text-repr-fallback {\n",
       "  display: none;\n",
       "}\n",
       "\n",
       "div.sk-parallel-item,\n",
       "div.sk-serial,\n",
       "div.sk-item {\n",
       "  /* draw centered vertical line to link estimators */\n",
       "  background-image: linear-gradient(var(--sklearn-color-text-on-default-background), var(--sklearn-color-text-on-default-background));\n",
       "  background-size: 2px 100%;\n",
       "  background-repeat: no-repeat;\n",
       "  background-position: center center;\n",
       "}\n",
       "\n",
       "/* Parallel-specific style estimator block */\n",
       "\n",
       "#sk-container-id-4 div.sk-parallel-item::after {\n",
       "  content: \"\";\n",
       "  width: 100%;\n",
       "  border-bottom: 2px solid var(--sklearn-color-text-on-default-background);\n",
       "  flex-grow: 1;\n",
       "}\n",
       "\n",
       "#sk-container-id-4 div.sk-parallel {\n",
       "  display: flex;\n",
       "  align-items: stretch;\n",
       "  justify-content: center;\n",
       "  background-color: var(--sklearn-color-background);\n",
       "  position: relative;\n",
       "}\n",
       "\n",
       "#sk-container-id-4 div.sk-parallel-item {\n",
       "  display: flex;\n",
       "  flex-direction: column;\n",
       "}\n",
       "\n",
       "#sk-container-id-4 div.sk-parallel-item:first-child::after {\n",
       "  align-self: flex-end;\n",
       "  width: 50%;\n",
       "}\n",
       "\n",
       "#sk-container-id-4 div.sk-parallel-item:last-child::after {\n",
       "  align-self: flex-start;\n",
       "  width: 50%;\n",
       "}\n",
       "\n",
       "#sk-container-id-4 div.sk-parallel-item:only-child::after {\n",
       "  width: 0;\n",
       "}\n",
       "\n",
       "/* Serial-specific style estimator block */\n",
       "\n",
       "#sk-container-id-4 div.sk-serial {\n",
       "  display: flex;\n",
       "  flex-direction: column;\n",
       "  align-items: center;\n",
       "  background-color: var(--sklearn-color-background);\n",
       "  padding-right: 1em;\n",
       "  padding-left: 1em;\n",
       "}\n",
       "\n",
       "\n",
       "/* Toggleable style: style used for estimator/Pipeline/ColumnTransformer box that is\n",
       "clickable and can be expanded/collapsed.\n",
       "- Pipeline and ColumnTransformer use this feature and define the default style\n",
       "- Estimators will overwrite some part of the style using the `sk-estimator` class\n",
       "*/\n",
       "\n",
       "/* Pipeline and ColumnTransformer style (default) */\n",
       "\n",
       "#sk-container-id-4 div.sk-toggleable {\n",
       "  /* Default theme specific background. It is overwritten whether we have a\n",
       "  specific estimator or a Pipeline/ColumnTransformer */\n",
       "  background-color: var(--sklearn-color-background);\n",
       "}\n",
       "\n",
       "/* Toggleable label */\n",
       "#sk-container-id-4 label.sk-toggleable__label {\n",
       "  cursor: pointer;\n",
       "  display: flex;\n",
       "  width: 100%;\n",
       "  margin-bottom: 0;\n",
       "  padding: 0.5em;\n",
       "  box-sizing: border-box;\n",
       "  text-align: center;\n",
       "  align-items: start;\n",
       "  justify-content: space-between;\n",
       "  gap: 0.5em;\n",
       "}\n",
       "\n",
       "#sk-container-id-4 label.sk-toggleable__label .caption {\n",
       "  font-size: 0.6rem;\n",
       "  font-weight: lighter;\n",
       "  color: var(--sklearn-color-text-muted);\n",
       "}\n",
       "\n",
       "#sk-container-id-4 label.sk-toggleable__label-arrow:before {\n",
       "  /* Arrow on the left of the label */\n",
       "  content: \"▸\";\n",
       "  float: left;\n",
       "  margin-right: 0.25em;\n",
       "  color: var(--sklearn-color-icon);\n",
       "}\n",
       "\n",
       "#sk-container-id-4 label.sk-toggleable__label-arrow:hover:before {\n",
       "  color: var(--sklearn-color-text);\n",
       "}\n",
       "\n",
       "/* Toggleable content - dropdown */\n",
       "\n",
       "#sk-container-id-4 div.sk-toggleable__content {\n",
       "  max-height: 0;\n",
       "  max-width: 0;\n",
       "  overflow: hidden;\n",
       "  text-align: left;\n",
       "  /* unfitted */\n",
       "  background-color: var(--sklearn-color-unfitted-level-0);\n",
       "}\n",
       "\n",
       "#sk-container-id-4 div.sk-toggleable__content.fitted {\n",
       "  /* fitted */\n",
       "  background-color: var(--sklearn-color-fitted-level-0);\n",
       "}\n",
       "\n",
       "#sk-container-id-4 div.sk-toggleable__content pre {\n",
       "  margin: 0.2em;\n",
       "  border-radius: 0.25em;\n",
       "  color: var(--sklearn-color-text);\n",
       "  /* unfitted */\n",
       "  background-color: var(--sklearn-color-unfitted-level-0);\n",
       "}\n",
       "\n",
       "#sk-container-id-4 div.sk-toggleable__content.fitted pre {\n",
       "  /* unfitted */\n",
       "  background-color: var(--sklearn-color-fitted-level-0);\n",
       "}\n",
       "\n",
       "#sk-container-id-4 input.sk-toggleable__control:checked~div.sk-toggleable__content {\n",
       "  /* Expand drop-down */\n",
       "  max-height: 200px;\n",
       "  max-width: 100%;\n",
       "  overflow: auto;\n",
       "}\n",
       "\n",
       "#sk-container-id-4 input.sk-toggleable__control:checked~label.sk-toggleable__label-arrow:before {\n",
       "  content: \"▾\";\n",
       "}\n",
       "\n",
       "/* Pipeline/ColumnTransformer-specific style */\n",
       "\n",
       "#sk-container-id-4 div.sk-label input.sk-toggleable__control:checked~label.sk-toggleable__label {\n",
       "  color: var(--sklearn-color-text);\n",
       "  background-color: var(--sklearn-color-unfitted-level-2);\n",
       "}\n",
       "\n",
       "#sk-container-id-4 div.sk-label.fitted input.sk-toggleable__control:checked~label.sk-toggleable__label {\n",
       "  background-color: var(--sklearn-color-fitted-level-2);\n",
       "}\n",
       "\n",
       "/* Estimator-specific style */\n",
       "\n",
       "/* Colorize estimator box */\n",
       "#sk-container-id-4 div.sk-estimator input.sk-toggleable__control:checked~label.sk-toggleable__label {\n",
       "  /* unfitted */\n",
       "  background-color: var(--sklearn-color-unfitted-level-2);\n",
       "}\n",
       "\n",
       "#sk-container-id-4 div.sk-estimator.fitted input.sk-toggleable__control:checked~label.sk-toggleable__label {\n",
       "  /* fitted */\n",
       "  background-color: var(--sklearn-color-fitted-level-2);\n",
       "}\n",
       "\n",
       "#sk-container-id-4 div.sk-label label.sk-toggleable__label,\n",
       "#sk-container-id-4 div.sk-label label {\n",
       "  /* The background is the default theme color */\n",
       "  color: var(--sklearn-color-text-on-default-background);\n",
       "}\n",
       "\n",
       "/* On hover, darken the color of the background */\n",
       "#sk-container-id-4 div.sk-label:hover label.sk-toggleable__label {\n",
       "  color: var(--sklearn-color-text);\n",
       "  background-color: var(--sklearn-color-unfitted-level-2);\n",
       "}\n",
       "\n",
       "/* Label box, darken color on hover, fitted */\n",
       "#sk-container-id-4 div.sk-label.fitted:hover label.sk-toggleable__label.fitted {\n",
       "  color: var(--sklearn-color-text);\n",
       "  background-color: var(--sklearn-color-fitted-level-2);\n",
       "}\n",
       "\n",
       "/* Estimator label */\n",
       "\n",
       "#sk-container-id-4 div.sk-label label {\n",
       "  font-family: monospace;\n",
       "  font-weight: bold;\n",
       "  display: inline-block;\n",
       "  line-height: 1.2em;\n",
       "}\n",
       "\n",
       "#sk-container-id-4 div.sk-label-container {\n",
       "  text-align: center;\n",
       "}\n",
       "\n",
       "/* Estimator-specific */\n",
       "#sk-container-id-4 div.sk-estimator {\n",
       "  font-family: monospace;\n",
       "  border: 1px dotted var(--sklearn-color-border-box);\n",
       "  border-radius: 0.25em;\n",
       "  box-sizing: border-box;\n",
       "  margin-bottom: 0.5em;\n",
       "  /* unfitted */\n",
       "  background-color: var(--sklearn-color-unfitted-level-0);\n",
       "}\n",
       "\n",
       "#sk-container-id-4 div.sk-estimator.fitted {\n",
       "  /* fitted */\n",
       "  background-color: var(--sklearn-color-fitted-level-0);\n",
       "}\n",
       "\n",
       "/* on hover */\n",
       "#sk-container-id-4 div.sk-estimator:hover {\n",
       "  /* unfitted */\n",
       "  background-color: var(--sklearn-color-unfitted-level-2);\n",
       "}\n",
       "\n",
       "#sk-container-id-4 div.sk-estimator.fitted:hover {\n",
       "  /* fitted */\n",
       "  background-color: var(--sklearn-color-fitted-level-2);\n",
       "}\n",
       "\n",
       "/* Specification for estimator info (e.g. \"i\" and \"?\") */\n",
       "\n",
       "/* Common style for \"i\" and \"?\" */\n",
       "\n",
       ".sk-estimator-doc-link,\n",
       "a:link.sk-estimator-doc-link,\n",
       "a:visited.sk-estimator-doc-link {\n",
       "  float: right;\n",
       "  font-size: smaller;\n",
       "  line-height: 1em;\n",
       "  font-family: monospace;\n",
       "  background-color: var(--sklearn-color-background);\n",
       "  border-radius: 1em;\n",
       "  height: 1em;\n",
       "  width: 1em;\n",
       "  text-decoration: none !important;\n",
       "  margin-left: 0.5em;\n",
       "  text-align: center;\n",
       "  /* unfitted */\n",
       "  border: var(--sklearn-color-unfitted-level-1) 1pt solid;\n",
       "  color: var(--sklearn-color-unfitted-level-1);\n",
       "}\n",
       "\n",
       ".sk-estimator-doc-link.fitted,\n",
       "a:link.sk-estimator-doc-link.fitted,\n",
       "a:visited.sk-estimator-doc-link.fitted {\n",
       "  /* fitted */\n",
       "  border: var(--sklearn-color-fitted-level-1) 1pt solid;\n",
       "  color: var(--sklearn-color-fitted-level-1);\n",
       "}\n",
       "\n",
       "/* On hover */\n",
       "div.sk-estimator:hover .sk-estimator-doc-link:hover,\n",
       ".sk-estimator-doc-link:hover,\n",
       "div.sk-label-container:hover .sk-estimator-doc-link:hover,\n",
       ".sk-estimator-doc-link:hover {\n",
       "  /* unfitted */\n",
       "  background-color: var(--sklearn-color-unfitted-level-3);\n",
       "  color: var(--sklearn-color-background);\n",
       "  text-decoration: none;\n",
       "}\n",
       "\n",
       "div.sk-estimator.fitted:hover .sk-estimator-doc-link.fitted:hover,\n",
       ".sk-estimator-doc-link.fitted:hover,\n",
       "div.sk-label-container:hover .sk-estimator-doc-link.fitted:hover,\n",
       ".sk-estimator-doc-link.fitted:hover {\n",
       "  /* fitted */\n",
       "  background-color: var(--sklearn-color-fitted-level-3);\n",
       "  color: var(--sklearn-color-background);\n",
       "  text-decoration: none;\n",
       "}\n",
       "\n",
       "/* Span, style for the box shown on hovering the info icon */\n",
       ".sk-estimator-doc-link span {\n",
       "  display: none;\n",
       "  z-index: 9999;\n",
       "  position: relative;\n",
       "  font-weight: normal;\n",
       "  right: .2ex;\n",
       "  padding: .5ex;\n",
       "  margin: .5ex;\n",
       "  width: min-content;\n",
       "  min-width: 20ex;\n",
       "  max-width: 50ex;\n",
       "  color: var(--sklearn-color-text);\n",
       "  box-shadow: 2pt 2pt 4pt #999;\n",
       "  /* unfitted */\n",
       "  background: var(--sklearn-color-unfitted-level-0);\n",
       "  border: .5pt solid var(--sklearn-color-unfitted-level-3);\n",
       "}\n",
       "\n",
       ".sk-estimator-doc-link.fitted span {\n",
       "  /* fitted */\n",
       "  background: var(--sklearn-color-fitted-level-0);\n",
       "  border: var(--sklearn-color-fitted-level-3);\n",
       "}\n",
       "\n",
       ".sk-estimator-doc-link:hover span {\n",
       "  display: block;\n",
       "}\n",
       "\n",
       "/* \"?\"-specific style due to the `<a>` HTML tag */\n",
       "\n",
       "#sk-container-id-4 a.estimator_doc_link {\n",
       "  float: right;\n",
       "  font-size: 1rem;\n",
       "  line-height: 1em;\n",
       "  font-family: monospace;\n",
       "  background-color: var(--sklearn-color-background);\n",
       "  border-radius: 1rem;\n",
       "  height: 1rem;\n",
       "  width: 1rem;\n",
       "  text-decoration: none;\n",
       "  /* unfitted */\n",
       "  color: var(--sklearn-color-unfitted-level-1);\n",
       "  border: var(--sklearn-color-unfitted-level-1) 1pt solid;\n",
       "}\n",
       "\n",
       "#sk-container-id-4 a.estimator_doc_link.fitted {\n",
       "  /* fitted */\n",
       "  border: var(--sklearn-color-fitted-level-1) 1pt solid;\n",
       "  color: var(--sklearn-color-fitted-level-1);\n",
       "}\n",
       "\n",
       "/* On hover */\n",
       "#sk-container-id-4 a.estimator_doc_link:hover {\n",
       "  /* unfitted */\n",
       "  background-color: var(--sklearn-color-unfitted-level-3);\n",
       "  color: var(--sklearn-color-background);\n",
       "  text-decoration: none;\n",
       "}\n",
       "\n",
       "#sk-container-id-4 a.estimator_doc_link.fitted:hover {\n",
       "  /* fitted */\n",
       "  background-color: var(--sklearn-color-fitted-level-3);\n",
       "}\n",
       "</style><div id=\"sk-container-id-4\" class=\"sk-top-container\"><div class=\"sk-text-repr-fallback\"><pre>OptimalBinning(name=&#x27;mean radius&#x27;)</pre><b>In a Jupyter environment, please rerun this cell to show the HTML representation or trust the notebook. <br />On GitHub, the HTML representation is unable to render, please try loading this page with nbviewer.org.</b></div><div class=\"sk-container\" hidden><div class=\"sk-item\"><div class=\"sk-estimator  sk-toggleable\"><input class=\"sk-toggleable__control sk-hidden--visually\" id=\"sk-estimator-id-4\" type=\"checkbox\" checked><label for=\"sk-estimator-id-4\" class=\"sk-toggleable__label  sk-toggleable__label-arrow\"><div><div>OptimalBinning</div></div><div><span class=\"sk-estimator-doc-link \">i<span>Not fitted</span></span></div></label><div class=\"sk-toggleable__content \"><pre>OptimalBinning(name=&#x27;mean radius&#x27;)</pre></div> </div></div></div></div>"
      ],
      "text/plain": [
       "OptimalBinning(name='mean radius')"
      ]
     },
     "execution_count": 119,
     "metadata": {},
     "output_type": "execute_result"
    }
   ],
   "source": [
    "optb.fit(x, y)"
   ]
  },
  {
   "cell_type": "markdown",
   "metadata": {},
   "source": [
    "You can check if an optimal solution has been found via the status attribute:"
   ]
  },
  {
   "cell_type": "code",
   "execution_count": 120,
   "metadata": {},
   "outputs": [
    {
     "data": {
      "text/plain": [
       "'OPTIMAL'"
      ]
     },
     "execution_count": 120,
     "metadata": {},
     "output_type": "execute_result"
    }
   ],
   "source": [
    "optb.status"
   ]
  },
  {
   "cell_type": "markdown",
   "metadata": {},
   "source": [
    "You can also retrieve the optimal split points via the splits attribute:"
   ]
  },
  {
   "cell_type": "code",
   "execution_count": 121,
   "metadata": {},
   "outputs": [
    {
     "data": {
      "text/plain": [
       "array([11.42500019, 12.32999992, 13.09499979, 13.70499992, 15.04500008,\n",
       "       16.92500019])"
      ]
     },
     "execution_count": 121,
     "metadata": {},
     "output_type": "execute_result"
    }
   ],
   "source": [
    "optb.splits"
   ]
  },
  {
   "cell_type": "markdown",
   "metadata": {},
   "source": [
    "The binning table"
   ]
  },
  {
   "cell_type": "markdown",
   "metadata": {},
   "source": [
    "The optimal binning algorithms return a binning table; a binning table displays the binned data and several metrics for each bin. Class OptimalBinning returns an object BinningTable via the binning_table attribute."
   ]
  },
  {
   "cell_type": "code",
   "execution_count": 122,
   "metadata": {},
   "outputs": [
    {
     "data": {
      "text/plain": [
       "optbinning.binning.binning_statistics.BinningTable"
      ]
     },
     "execution_count": 122,
     "metadata": {},
     "output_type": "execute_result"
    }
   ],
   "source": [
    "binning_table = optb.binning_table\n",
    "\n",
    "type(binning_table)"
   ]
  },
  {
   "cell_type": "markdown",
   "metadata": {},
   "source": [
    "The binning_table is instantiated, but not built. Therefore, the first step is to call the method build, which returns a pandas.DataFrame."
   ]
  },
  {
   "cell_type": "code",
   "execution_count": 123,
   "metadata": {},
   "outputs": [
    {
     "data": {
      "text/html": [
       "<div>\n",
       "<style scoped>\n",
       "    .dataframe tbody tr th:only-of-type {\n",
       "        vertical-align: middle;\n",
       "    }\n",
       "\n",
       "    .dataframe tbody tr th {\n",
       "        vertical-align: top;\n",
       "    }\n",
       "\n",
       "    .dataframe thead th {\n",
       "        text-align: right;\n",
       "    }\n",
       "</style>\n",
       "<table border=\"1\" class=\"dataframe\">\n",
       "  <thead>\n",
       "    <tr style=\"text-align: right;\">\n",
       "      <th></th>\n",
       "      <th>Bin</th>\n",
       "      <th>Count</th>\n",
       "      <th>Count (%)</th>\n",
       "      <th>Non-event</th>\n",
       "      <th>Event</th>\n",
       "      <th>Event rate</th>\n",
       "      <th>WoE</th>\n",
       "      <th>IV</th>\n",
       "      <th>JS</th>\n",
       "    </tr>\n",
       "  </thead>\n",
       "  <tbody>\n",
       "    <tr>\n",
       "      <th>0</th>\n",
       "      <td>(-inf, 11.43)</td>\n",
       "      <td>118</td>\n",
       "      <td>0.207381</td>\n",
       "      <td>3</td>\n",
       "      <td>115</td>\n",
       "      <td>0.974576</td>\n",
       "      <td>-3.12517</td>\n",
       "      <td>0.962483</td>\n",
       "      <td>0.087205</td>\n",
       "    </tr>\n",
       "    <tr>\n",
       "      <th>1</th>\n",
       "      <td>[11.43, 12.33)</td>\n",
       "      <td>79</td>\n",
       "      <td>0.138840</td>\n",
       "      <td>3</td>\n",
       "      <td>76</td>\n",
       "      <td>0.962025</td>\n",
       "      <td>-2.710972</td>\n",
       "      <td>0.538763</td>\n",
       "      <td>0.052198</td>\n",
       "    </tr>\n",
       "    <tr>\n",
       "      <th>2</th>\n",
       "      <td>[12.33, 13.09)</td>\n",
       "      <td>68</td>\n",
       "      <td>0.119508</td>\n",
       "      <td>7</td>\n",
       "      <td>61</td>\n",
       "      <td>0.897059</td>\n",
       "      <td>-1.643814</td>\n",
       "      <td>0.226599</td>\n",
       "      <td>0.025513</td>\n",
       "    </tr>\n",
       "    <tr>\n",
       "      <th>3</th>\n",
       "      <td>[13.09, 13.70)</td>\n",
       "      <td>49</td>\n",
       "      <td>0.086116</td>\n",
       "      <td>10</td>\n",
       "      <td>39</td>\n",
       "      <td>0.795918</td>\n",
       "      <td>-0.839827</td>\n",
       "      <td>0.052131</td>\n",
       "      <td>0.006331</td>\n",
       "    </tr>\n",
       "    <tr>\n",
       "      <th>4</th>\n",
       "      <td>[13.70, 15.05)</td>\n",
       "      <td>83</td>\n",
       "      <td>0.145870</td>\n",
       "      <td>28</td>\n",
       "      <td>55</td>\n",
       "      <td>0.662651</td>\n",
       "      <td>-0.153979</td>\n",
       "      <td>0.003385</td>\n",
       "      <td>0.000423</td>\n",
       "    </tr>\n",
       "    <tr>\n",
       "      <th>5</th>\n",
       "      <td>[15.05, 16.93)</td>\n",
       "      <td>54</td>\n",
       "      <td>0.094903</td>\n",
       "      <td>44</td>\n",
       "      <td>10</td>\n",
       "      <td>0.185185</td>\n",
       "      <td>2.002754</td>\n",
       "      <td>0.359566</td>\n",
       "      <td>0.038678</td>\n",
       "    </tr>\n",
       "    <tr>\n",
       "      <th>6</th>\n",
       "      <td>[16.93, inf)</td>\n",
       "      <td>118</td>\n",
       "      <td>0.207381</td>\n",
       "      <td>117</td>\n",
       "      <td>1</td>\n",
       "      <td>0.008475</td>\n",
       "      <td>5.283323</td>\n",
       "      <td>2.900997</td>\n",
       "      <td>0.183436</td>\n",
       "    </tr>\n",
       "    <tr>\n",
       "      <th>7</th>\n",
       "      <td>Special</td>\n",
       "      <td>0</td>\n",
       "      <td>0.000000</td>\n",
       "      <td>0</td>\n",
       "      <td>0</td>\n",
       "      <td>0.000000</td>\n",
       "      <td>0.0</td>\n",
       "      <td>0.000000</td>\n",
       "      <td>0.000000</td>\n",
       "    </tr>\n",
       "    <tr>\n",
       "      <th>8</th>\n",
       "      <td>Missing</td>\n",
       "      <td>0</td>\n",
       "      <td>0.000000</td>\n",
       "      <td>0</td>\n",
       "      <td>0</td>\n",
       "      <td>0.000000</td>\n",
       "      <td>0.0</td>\n",
       "      <td>0.000000</td>\n",
       "      <td>0.000000</td>\n",
       "    </tr>\n",
       "    <tr>\n",
       "      <th>Totals</th>\n",
       "      <td></td>\n",
       "      <td>569</td>\n",
       "      <td>1.000000</td>\n",
       "      <td>212</td>\n",
       "      <td>357</td>\n",
       "      <td>0.627417</td>\n",
       "      <td></td>\n",
       "      <td>5.043925</td>\n",
       "      <td>0.393784</td>\n",
       "    </tr>\n",
       "  </tbody>\n",
       "</table>\n",
       "</div>"
      ],
      "text/plain": [
       "                   Bin  Count  Count (%)  Non-event  Event  Event rate  \\\n",
       "0        (-inf, 11.43)    118   0.207381          3    115    0.974576   \n",
       "1       [11.43, 12.33)     79   0.138840          3     76    0.962025   \n",
       "2       [12.33, 13.09)     68   0.119508          7     61    0.897059   \n",
       "3       [13.09, 13.70)     49   0.086116         10     39    0.795918   \n",
       "4       [13.70, 15.05)     83   0.145870         28     55    0.662651   \n",
       "5       [15.05, 16.93)     54   0.094903         44     10    0.185185   \n",
       "6         [16.93, inf)    118   0.207381        117      1    0.008475   \n",
       "7              Special      0   0.000000          0      0    0.000000   \n",
       "8              Missing      0   0.000000          0      0    0.000000   \n",
       "Totals                    569   1.000000        212    357    0.627417   \n",
       "\n",
       "             WoE        IV        JS  \n",
       "0       -3.12517  0.962483  0.087205  \n",
       "1      -2.710972  0.538763  0.052198  \n",
       "2      -1.643814  0.226599  0.025513  \n",
       "3      -0.839827  0.052131  0.006331  \n",
       "4      -0.153979  0.003385  0.000423  \n",
       "5       2.002754  0.359566  0.038678  \n",
       "6       5.283323  2.900997  0.183436  \n",
       "7            0.0  0.000000  0.000000  \n",
       "8            0.0  0.000000  0.000000  \n",
       "Totals            5.043925  0.393784  "
      ]
     },
     "execution_count": 123,
     "metadata": {},
     "output_type": "execute_result"
    }
   ],
   "source": [
    "binning_table.build()"
   ]
  },
  {
   "cell_type": "markdown",
   "metadata": {},
   "source": [
    "Let’s describe the columns of this binning table:\n",
    "\n",
    "Bin: the intervals delimited by the optimal split points.  \n",
    "Count: the number of records for each bin.  \n",
    "Count (%): the percentage of records for each bin.  \n",
    "Non-event: the number of non-event records (𝑦=0) for each bin.  \n",
    "Event: the number of event records (𝑦=1) for each bin.  \n",
    "Event rate: the percentage of event records for each bin.  \n",
    "WoE: the Weight-of-Evidence for each bin.  \n",
    "IV: the Information Value (also known as Jeffrey’s divergence) for each bin.  \n",
    "JS: the Jensen-Shannon divergence for each bin.  \n",
    "The last row shows the total number of records, non-event records, event records, and IV and JS.    \n",
    "\n",
    "You can use the method plot to visualize the histogram and WoE or event rate curve. Note that the Bin ID corresponds to the binning table index."
   ]
  },
  {
   "cell_type": "code",
   "execution_count": 124,
   "metadata": {},
   "outputs": [
    {
     "data": {
      "image/png": "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",
      "text/plain": [
       "<Figure size 640x480 with 2 Axes>"
      ]
     },
     "metadata": {},
     "output_type": "display_data"
    }
   ],
   "source": [
    "binning_table.plot(metric=\"woe\")"
   ]
  },
  {
   "cell_type": "code",
   "execution_count": 125,
   "metadata": {},
   "outputs": [
    {
     "data": {
      "image/png": "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",
      "text/plain": [
       "<Figure size 640x480 with 2 Axes>"
      ]
     },
     "metadata": {},
     "output_type": "display_data"
    }
   ],
   "source": [
    "binning_table.plot(metric=\"event_rate\")"
   ]
  },
  {
   "cell_type": "markdown",
   "metadata": {},
   "source": [
    "Note that WoE is inversely related to the event rate, i.e., a monotonically ascending event rate ensures a monotonically descending WoE and vice-versa. We will see more monotonic trend options in the advanced tutorial."
   ]
  },
  {
   "cell_type": "markdown",
   "metadata": {},
   "source": [
    "Read more here: [https://gnpalencia.org/optbinning/tutorials/tutorial_binary.html](https://gnpalencia.org/optbinning/tutorials/tutorial_binary.html)"
   ]
  },
  {
   "cell_type": "markdown",
   "metadata": {},
   "source": [
    "## Working with 'missingno' library"
   ]
  },
  {
   "cell_type": "markdown",
   "metadata": {},
   "source": [
    "<iframe width=\"560\" height=\"315\" src=\"https://www.youtube.com/embed/Wdvwer7h-8w?si=pVqCbOXb4CaCsmnJ\" title=\"YouTube video player\" frameborder=\"0\" allow=\"accelerometer; autoplay; clipboard-write; encrypted-media; gyroscope; picture-in-picture; web-share\" referrerpolicy=\"strict-origin-when-cross-origin\" allowfullscreen></iframe>"
   ]
  },
  {
   "cell_type": "markdown",
   "metadata": {},
   "source": [
    "**Exercise 6.** Your turn! \n",
    "\n",
    "Work with the 'carseats' dataset, find the best way to perform full diagnostic (dirty data, outliers, missing values). Fix problems."
   ]
  },
  {
   "cell_type": "code",
<<<<<<< HEAD
   "execution_count": 65,
   "metadata": {},
   "outputs": [
    {
     "name": "stdout",
     "output_type": "stream",
     "text": [
      "Number of cases without Nan: 370\n",
      "Percentage of cases without Nan: 92.5\n"
     ]
    }
   ],
   "source": [
    "#finding missing values\n",
    "without_NaN = carseats.dropna().shape[0]\n",
    "percentage_of_complete = (without_NaN/carseats.shape[0])*100\n",
    "print(f\"Number of cases without Nan: {without_NaN}\")\n",
    "print(f\"Percentage of cases without Nan: {percentage_of_complete}\")\n"
   ]
  },
  {
   "cell_type": "code",
   "execution_count": 66,
   "metadata": {},
   "outputs": [],
   "source": [
    "#correcting other special values\n",
    "def is_special(x):\n",
    "    if np.issubdtype(x.dtype, np.number):\n",
    "        return ~np.isfinite(x)\n",
    "    else:\n",
    "        return pd.isna(x)\n",
    "\n",
    "# Apply the function to each column and replace special values with NaN\n",
    "for col in carseats.columns:\n",
    "    carseats[col] = carseats[col].apply(lambda x: np.nan if is_special(pd.Series([x]))[0] else x)\n",
    "    "
   ]
  },
  {
   "cell_type": "code",
   "execution_count": null,
   "metadata": {},
   "outputs": [],
=======
   "execution_count": 131,
   "metadata": {},
   "outputs": [
    {
     "name": "stdout",
     "output_type": "stream",
     "text": [
      "Sales > 0: True\n",
      "Age > 0: True\n",
      "Age < 120: True\n",
      "ShelveLoc in ['Good', 'Bad', 'Medium']: True\n",
      "Urban in ['Yes', 'No']: True\n",
      "US in ['Yes', 'No']: True\n",
      "Education > 0: True\n",
      "Education > 30: True\n",
      "Summary of Violations after corrections:\n",
      "Sales > 0: 0 violations\n",
      "Age > 0: 0 violations\n",
      "Age < 120: 0 violations\n",
      "ShelveLoc in ['Good', 'Bad', 'Medium']: 0 violations\n",
      "Urban in ['Yes', 'No']: 0 violations\n",
      "US in ['Yes', 'No']: 0 violations\n",
      "Education > 0: 0 violations\n",
      "Education > 30: 0 violations\n"
     ]
    }
   ],
>>>>>>> dc9fb422cf2bf6ee5ac845e0c9b8b413b46a56ad
   "source": [
    "# your code goes here\n",
    "def check_rules(df):\n",
    "    rules = {\n",
    "        \"Sales > 0\": df[\"Sales\"].isna() | (df[\"Sales\"] > 0),\n",
    "        \"Age > 0\": df[\"Age\"] > 18,\n",
    "        \"Age < 120\": df[\"Age\"] < 120,\n",
    "        \"ShelveLoc in ['Good', 'Bad', 'Medium']\": df[\"ShelveLoc\"].isin(['Good', 'Medium', 'Bad']),\n",
    "        \"Urban in ['Yes', 'No']\": df[\"Urban\"].isna() | df[\"Urban\"].isin(['Yes', 'No']),\n",
    "        \"US in ['Yes', 'No']\": df[\"US\"].isin(['Yes', 'No']),\n",
    "        \"Education > 0\": df[\"Education\"] > 0,\n",
    "        \"Education > 30\": df[\"Education\"] < 30\n",
    "    }\n",
    "    return rules\n",
    "\n",
    "\n",
    "# correct Sales\n",
    "def correct_sales(df):\n",
    "    df.loc[(~df['Sales'].isna()) & (df['Sales'] <= 0), 'Sales'] = np.nan\n",
    "    return df\n",
    "\n",
    "# correct Urban\n",
    "def correct_urban(df):\n",
    "    df.loc[(~df['Urban'].isin(['Yes', 'No']) & ~df['Urban'].isna()), 'Urban'] = np.nan\n",
    "    return df\n",
    "\n",
    "\n",
    "rules = check_rules(carseats)\n",
    "\n",
    "for rule, result in rules.items():\n",
    "    print(f\"{rule}: {result.all()}\")\n",
    "\n",
    "\n",
    "# Check for rule violations\n",
    "violations = {rule: ~result for rule, result in rules.items()}\n",
    "\n",
    "# Summarize the violations\n",
    "summary = {rule: result.sum() for rule, result in violations.items()}\n",
    "\n",
    "carseats = correct_sales(carseats)\n",
    "carseats = correct_urban(carseats)\n",
    "\n",
    "# Print the summary of violations\n",
    "\n",
    "print(\"Summary of Violations after corrections:\")\n",
    "for rule, count in summary.items():\n",
    "    print(f\"{rule}: {count} violations\")"
   ]
  }
 ],
 "metadata": {
  "kernelspec": {
   "display_name": "Python 3",
   "language": "python",
   "name": "python3"
  },
  "language_info": {
   "codemirror_mode": {
    "name": "ipython",
    "version": 3
   },
   "file_extension": ".py",
   "mimetype": "text/x-python",
   "name": "python",
   "nbconvert_exporter": "python",
   "pygments_lexer": "ipython3",
   "version": "3.11.9"
  }
 },
 "nbformat": 4,
 "nbformat_minor": 2
}
