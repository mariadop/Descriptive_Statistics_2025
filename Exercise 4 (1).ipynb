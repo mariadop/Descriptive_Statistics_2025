{
 "cells": [
  {
   "cell_type": "markdown",
   "metadata": {},
   "source": [
    "# Exercise 4. - Data Cleansing"
   ]
  },
  {
   "cell_type": "markdown",
   "metadata": {},
   "source": [
    "## Handling Missing Values in Python"
   ]
  },
  {
   "cell_type": "markdown",
   "metadata": {},
   "source": [
    "![Missing values](missing.png)"
   ]
  },
  {
   "cell_type": "markdown",
   "metadata": {},
   "source": [
    "Real world data is messy and often contains a lot of missing values. \n",
    "\n",
    "There could be multiple reasons for the missing values but primarily the reason for missingness can be attributed to:\n",
    "\n",
    "| Reason for missing Data | \n",
    "| :-----------: | \n",
    "| Data doesn't exist |\n",
    "| Data not collected due to human error. | \n",
    "| Data deleted accidently |"
   ]
  },
  {
   "cell_type": "markdown",
   "metadata": {},
   "source": [
    "## A guide to handling missing values \n",
    "\n",
    "Please read this tutorial on handling missing values first, before working on dirty data this week: [TUTORIAL](a_guide_to_na.ipynb)."
   ]
  },
  {
   "cell_type": "markdown",
   "metadata": {},
   "source": [
    "# Dirty data"
   ]
  },
  {
   "cell_type": "code",
   "execution_count": 88,
   "metadata": {},
   "outputs": [],
   "source": [
    "import pandas as pd\n",
    "import numpy as np\n",
    "from sklearn.ensemble import RandomForestClassifier\n",
    "import warnings\n",
    "import ssl\n",
    "# Suppress warnings\n",
    "warnings.filterwarnings('ignore')\n",
    "# Disable SSL verification\n",
    "ssl._create_default_https_context = ssl._create_unverified_context\n",
    "import requests\n",
    "from io import StringIO"
   ]
  },
  {
   "cell_type": "markdown",
   "metadata": {},
   "source": [
    "Load the dataset from the provided URL using pandas."
   ]
  },
  {
   "cell_type": "code",
   "execution_count": 89,
   "metadata": {},
   "outputs": [
    {
     "name": "stdout",
     "output_type": "stream",
     "text": [
      "   Sepal.Length  Sepal.Width  Petal.Length  Petal.Width     Species\n",
      "0           6.4          3.2           4.5          1.5  versicolor\n",
      "1           6.3          3.3           6.0          2.5   virginica\n",
      "2           6.2          NaN           5.4          2.3   virginica\n",
      "3           5.0          3.4           1.6          0.4      setosa\n",
      "4           5.7          2.6           3.5          1.0  versicolor\n"
     ]
    }
   ],
   "source": [
    "url = \"https://raw.github.com/edwindj/datacleaning/master/data/dirty_iris.csv\"\n",
    "response = requests.get(url, verify=False)\n",
    "data = StringIO(response.text)\n",
    "dirty_iris = pd.read_csv(data, sep=\",\")\n",
    "print(dirty_iris.head())"
   ]
  },
  {
   "cell_type": "markdown",
   "metadata": {},
   "source": [
    "## Introduce Missing Values\n",
    "\n",
    "Randomly introduce missing values into the dataset to mimic the Python code behavior."
   ]
  },
  {
   "cell_type": "code",
   "execution_count": 90,
   "metadata": {},
   "outputs": [],
   "source": [
    "# Load additional data\n",
    "carseats = pd.read_csv(\"https://raw.githubusercontent.com/selva86/datasets/master/Carseats.csv\")\n",
    "\n",
    "# Set random seed for reproducibility\n",
    "np.random.seed(123)\n",
    "\n",
    "# Introduce missing values in 'Income' column\n",
    "income_missing_indices = np.random.choice(carseats.index, size=20, replace=False)\n",
    "carseats.loc[income_missing_indices, 'Income'] = np.nan\n",
    "\n",
    "# Set another random seed for reproducibility\n",
    "np.random.seed(456)\n",
    "\n",
    "# Introduce missing values in 'Urban' column\n",
    "urban_missing_indices = np.random.choice(carseats.index, size=10, replace=False)\n",
    "carseats.loc[urban_missing_indices, 'Urban'] = np.nan\n",
    "\n"
   ]
  },
  {
   "cell_type": "markdown",
   "metadata": {},
   "source": [
    "# Introduction\n",
    "\n",
    "Analysis of data is a process of inspecting, cleaning, transforming, and modeling data with the goal of highlighting useful information, suggesting conclusions and supporting decision making."
   ]
  },
  {
   "cell_type": "markdown",
   "metadata": {},
   "source": [
    "![Descriptive Statistics](images/ds.png)"
   ]
  },
  {
   "cell_type": "markdown",
   "metadata": {},
   "source": [
    "Many times in the beginning we spend hours on handling problems with missing values, logical inconsistencies or outliers in our datasets. In this tutorial we will go through the most popular techniques in data cleansing.\n"
   ]
  },
  {
   "cell_type": "markdown",
   "metadata": {},
   "source": [
    "We will be working with the messy dataset `iris`. Originally published at UCI Machine Learning Repository: Iris Data Set, this small dataset from 1936 is often used for testing out machine learning algorithms and visualizations. Each row of the table represents an iris flower, including its species and dimensions of its botanical parts, sepal and petal, in centimeters.\n",
    "\n",
    "Take a look at this dataset here:"
   ]
  },
  {
   "cell_type": "code",
   "execution_count": 91,
   "metadata": {},
   "outputs": [
    {
     "data": {
      "text/html": [
       "<div>\n",
       "<style scoped>\n",
       "    .dataframe tbody tr th:only-of-type {\n",
       "        vertical-align: middle;\n",
       "    }\n",
       "\n",
       "    .dataframe tbody tr th {\n",
       "        vertical-align: top;\n",
       "    }\n",
       "\n",
       "    .dataframe thead th {\n",
       "        text-align: right;\n",
       "    }\n",
       "</style>\n",
       "<table border=\"1\" class=\"dataframe\">\n",
       "  <thead>\n",
       "    <tr style=\"text-align: right;\">\n",
       "      <th></th>\n",
       "      <th>Sepal.Length</th>\n",
       "      <th>Sepal.Width</th>\n",
       "      <th>Petal.Length</th>\n",
       "      <th>Petal.Width</th>\n",
       "      <th>Species</th>\n",
       "    </tr>\n",
       "  </thead>\n",
       "  <tbody>\n",
       "    <tr>\n",
       "      <th>0</th>\n",
       "      <td>6.4</td>\n",
       "      <td>3.2</td>\n",
       "      <td>4.5</td>\n",
       "      <td>1.5</td>\n",
       "      <td>versicolor</td>\n",
       "    </tr>\n",
       "    <tr>\n",
       "      <th>1</th>\n",
       "      <td>6.3</td>\n",
       "      <td>3.3</td>\n",
       "      <td>6.0</td>\n",
       "      <td>2.5</td>\n",
       "      <td>virginica</td>\n",
       "    </tr>\n",
       "    <tr>\n",
       "      <th>2</th>\n",
       "      <td>6.2</td>\n",
       "      <td>NaN</td>\n",
       "      <td>5.4</td>\n",
       "      <td>2.3</td>\n",
       "      <td>virginica</td>\n",
       "    </tr>\n",
       "    <tr>\n",
       "      <th>3</th>\n",
       "      <td>5.0</td>\n",
       "      <td>3.4</td>\n",
       "      <td>1.6</td>\n",
       "      <td>0.4</td>\n",
       "      <td>setosa</td>\n",
       "    </tr>\n",
       "    <tr>\n",
       "      <th>4</th>\n",
       "      <td>5.7</td>\n",
       "      <td>2.6</td>\n",
       "      <td>3.5</td>\n",
       "      <td>1.0</td>\n",
       "      <td>versicolor</td>\n",
       "    </tr>\n",
       "    <tr>\n",
       "      <th>...</th>\n",
       "      <td>...</td>\n",
       "      <td>...</td>\n",
       "      <td>...</td>\n",
       "      <td>...</td>\n",
       "      <td>...</td>\n",
       "    </tr>\n",
       "    <tr>\n",
       "      <th>145</th>\n",
       "      <td>6.7</td>\n",
       "      <td>3.1</td>\n",
       "      <td>5.6</td>\n",
       "      <td>2.4</td>\n",
       "      <td>virginica</td>\n",
       "    </tr>\n",
       "    <tr>\n",
       "      <th>146</th>\n",
       "      <td>5.6</td>\n",
       "      <td>3.0</td>\n",
       "      <td>4.5</td>\n",
       "      <td>1.5</td>\n",
       "      <td>versicolor</td>\n",
       "    </tr>\n",
       "    <tr>\n",
       "      <th>147</th>\n",
       "      <td>5.2</td>\n",
       "      <td>3.5</td>\n",
       "      <td>1.5</td>\n",
       "      <td>0.2</td>\n",
       "      <td>setosa</td>\n",
       "    </tr>\n",
       "    <tr>\n",
       "      <th>148</th>\n",
       "      <td>6.4</td>\n",
       "      <td>3.1</td>\n",
       "      <td>NaN</td>\n",
       "      <td>1.8</td>\n",
       "      <td>virginica</td>\n",
       "    </tr>\n",
       "    <tr>\n",
       "      <th>149</th>\n",
       "      <td>5.8</td>\n",
       "      <td>2.6</td>\n",
       "      <td>4.0</td>\n",
       "      <td>NaN</td>\n",
       "      <td>versicolor</td>\n",
       "    </tr>\n",
       "  </tbody>\n",
       "</table>\n",
       "<p>150 rows × 5 columns</p>\n",
       "</div>"
      ],
      "text/plain": [
       "     Sepal.Length  Sepal.Width  Petal.Length  Petal.Width     Species\n",
       "0             6.4          3.2           4.5          1.5  versicolor\n",
       "1             6.3          3.3           6.0          2.5   virginica\n",
       "2             6.2          NaN           5.4          2.3   virginica\n",
       "3             5.0          3.4           1.6          0.4      setosa\n",
       "4             5.7          2.6           3.5          1.0  versicolor\n",
       "..            ...          ...           ...          ...         ...\n",
       "145           6.7          3.1           5.6          2.4   virginica\n",
       "146           5.6          3.0           4.5          1.5  versicolor\n",
       "147           5.2          3.5           1.5          0.2      setosa\n",
       "148           6.4          3.1           NaN          1.8   virginica\n",
       "149           5.8          2.6           4.0          NaN  versicolor\n",
       "\n",
       "[150 rows x 5 columns]"
      ]
     },
     "execution_count": 91,
     "metadata": {},
     "output_type": "execute_result"
    }
   ],
   "source": [
    "dirty_iris"
   ]
  },
  {
   "cell_type": "markdown",
   "metadata": {},
   "source": [
    "## Detecting NA\n",
    "\n",
    "A missing value, represented by NaN in Python, is a placeholder for a datum of which the type is known but its value isn't. Therefore, it is impossible to perform statistical analysis on data where one or more values in the data are missing. One may choose to either omit elements from a dataset that contain missing values or to impute a value, but missingness is something to be dealt with prior to any analysis.\n"
   ]
  },
  {
   "cell_type": "markdown",
   "metadata": {},
   "source": [
    "![Descriptive Statistics](images/ds.png)"
   ]
  },
  {
   "cell_type": "markdown",
   "metadata": {},
   "source": [
    "Can you see that many values in our dataset have status NaN = Not Available? Count (or plot), how many (%) of all 150 rows is complete.\n"
   ]
  },
  {
   "cell_type": "code",
   "execution_count": 92,
   "metadata": {},
   "outputs": [
    {
     "name": "stdout",
     "output_type": "stream",
     "text": [
      "Number of complete cases: 96\n",
      "Percentage of complete cases: 64.00%\n"
     ]
    }
   ],
   "source": [
    "# Count the number of complete cases (rows without any missing values)\n",
    "complete_cases = dirty_iris.dropna().shape[0]\n",
    "\n",
    "# Calculate the percentage of complete cases\n",
    "percentage_complete = (complete_cases / dirty_iris.shape[0]) * 100\n",
    "\n",
    "print(f\"Number of complete cases: {complete_cases}\")\n",
    "print(f\"Percentage of complete cases: {percentage_complete:.2f}%\")"
   ]
  },
  {
   "cell_type": "markdown",
   "metadata": {},
   "source": [
    "Does the data contain other special values? If it does, replace them with NA."
   ]
  },
  {
   "cell_type": "code",
   "execution_count": 93,
   "metadata": {},
   "outputs": [
    {
     "name": "stdout",
     "output_type": "stream",
     "text": [
      "        Sepal.Length  Sepal.Width  Petal.Length  Petal.Width     Species\n",
      "count     140.000000   133.000000    131.000000   137.000000         150\n",
      "unique           NaN          NaN           NaN          NaN           3\n",
      "top              NaN          NaN           NaN          NaN  versicolor\n",
      "freq             NaN          NaN           NaN          NaN          50\n",
      "mean        6.559286     3.390977      4.449962     1.207299         NaN\n",
      "std         6.800940     3.315310      5.769299     0.764722         NaN\n",
      "min         0.000000    -3.000000      0.000000     0.100000         NaN\n",
      "25%         5.100000     2.800000      1.600000     0.300000         NaN\n",
      "50%         5.750000     3.000000      4.500000     1.300000         NaN\n",
      "75%         6.400000     3.300000      5.100000     1.800000         NaN\n",
      "max        73.000000    30.000000     63.000000     2.500000         NaN\n"
     ]
    }
   ],
   "source": [
    "# Define a function to check for special values\n",
    "def is_special(x):\n",
    "    if np.issubdtype(x.dtype, np.number):\n",
    "        return ~np.isfinite(x)\n",
    "    else:\n",
    "        return pd.isna(x)\n",
    "\n",
    "# Apply the function to each column and replace special values with NaN\n",
    "for col in dirty_iris.columns:\n",
    "    dirty_iris[col] = dirty_iris[col].apply(lambda x: np.nan if is_special(pd.Series([x]))[0] else x)\n",
    "\n",
    "# Display summary of the data\n",
    "print(dirty_iris.describe(include='all'))"
   ]
  },
  {
   "cell_type": "markdown",
   "metadata": {},
   "source": [
    "## Checking consistency\n",
    "\n",
    "Consistent data are technically correct data that are fit for statistical analysis. They are data in which missing values, special values, (obvious) errors and outliers are either removed, corrected or imputed. The data are consistent with constraints based on real-world knowledge about the subject that the data describe."
   ]
  },
  {
   "cell_type": "markdown",
   "metadata": {},
   "source": [
    "![Iris](images/iris.png)"
   ]
  },
  {
   "cell_type": "markdown",
   "metadata": {},
   "source": [
    "We have the following background knowledge:\n",
    "\n",
    "-   Species should be one of the following values: setosa, versicolor or virginica.\n",
    "\n",
    "-   All measured numerical properties of an iris should be positive.\n",
    "\n",
    "-   The petal length of an iris is at least 2 times its petal width.\n",
    "\n",
    "-   The sepal length of an iris cannot exceed 30 cm.\n",
    "\n",
    "-   The sepals of an iris are longer than its petals.\n",
    "\n",
    "Define these rules in a separate object 'RULES' and read them into Python. Print the resulting constraint object."
   ]
  },
  {
   "cell_type": "code",
   "execution_count": 94,
   "metadata": {},
   "outputs": [
    {
     "name": "stdout",
     "output_type": "stream",
     "text": [
      "Sepal.Length <= 30: False\n",
      "Species in ['setosa', 'versicolor', 'virginica']: True\n",
      "Sepal.Length > 0: False\n",
      "Sepal.Width > 0: False\n",
      "Petal.Length > 0: False\n",
      "Petal.Width > 0: False\n",
      "Petal.Length >= 2 * Petal.Width: False\n",
      "Sepal.Length > Petal.Length: False\n"
     ]
    }
   ],
   "source": [
    "# Define the rules as functions\n",
    "def check_rules(df):\n",
    "    rules = {\n",
    "        \"Sepal.Length <= 30\": df[\"Sepal.Length\"] <= 30,\n",
    "        \"Species in ['setosa', 'versicolor', 'virginica']\": df[\"Species\"].isin(['setosa', 'versicolor', 'virginica']),\n",
    "        \"Sepal.Length > 0\": df[\"Sepal.Length\"] > 0,\n",
    "        \"Sepal.Width > 0\": df[\"Sepal.Width\"] > 0,\n",
    "        \"Petal.Length > 0\": df[\"Petal.Length\"] > 0,\n",
    "        \"Petal.Width > 0\": df[\"Petal.Width\"] > 0,\n",
    "        \"Petal.Length >= 2 * Petal.Width\": df[\"Petal.Length\"] >= 2 * df[\"Petal.Width\"],\n",
    "        \"Sepal.Length > Petal.Length\": df[\"Sepal.Length\"] > df[\"Petal.Length\"]\n",
    "    }\n",
    "    return rules\n",
    "\n",
    "# Apply the rules to the dataframe\n",
    "rules = check_rules(dirty_iris)\n",
    "\n",
    "# Print the rules\n",
    "for rule, result in rules.items():\n",
    "    print(f\"{rule}: {result.all()}\")"
   ]
  },
  {
   "cell_type": "markdown",
   "metadata": {},
   "source": [
    "Now we are ready to determine how often each rule is broken (violations). Also we can summarize and plot the result."
   ]
  },
  {
   "cell_type": "code",
   "execution_count": 95,
   "metadata": {},
   "outputs": [
    {
     "name": "stdout",
     "output_type": "stream",
     "text": [
      "Summary of Violations:\n",
      "Sepal.Length <= 30: 12 violations\n",
      "Species in ['setosa', 'versicolor', 'virginica']: 0 violations\n",
      "Sepal.Length > 0: 11 violations\n",
      "Sepal.Width > 0: 19 violations\n",
      "Petal.Length > 0: 20 violations\n",
      "Petal.Width > 0: 13 violations\n",
      "Petal.Length >= 2 * Petal.Width: 34 violations\n",
      "Sepal.Length > Petal.Length: 30 violations\n"
     ]
    }
   ],
   "source": [
    "# Check for rule violations\n",
    "violations = {rule: ~result for rule, result in rules.items()}\n",
    "\n",
    "# Summarize the violations\n",
    "summary = {rule: result.sum() for rule, result in violations.items()}\n",
    "\n",
    "# Print the summary of violations\n",
    "print(\"Summary of Violations:\")\n",
    "for rule, count in summary.items():\n",
    "    print(f\"{rule}: {count} violations\")"
   ]
  },
  {
   "cell_type": "markdown",
   "metadata": {},
   "source": [
    "What percentage of the data has no errors?"
   ]
  },
  {
   "cell_type": "code",
   "execution_count": 96,
   "metadata": {},
   "outputs": [
    {
     "data": {
      "image/png": "[encoded data removed]",
      "text/plain": [
       "<Figure size 720x432 with 1 Axes>"
      ]
     },
     "metadata": {
      "needs_background": "light"
     },
     "output_type": "display_data"
    }
   ],
   "source": [
    "import matplotlib.pyplot as plt\n",
    "# Plot the violations\n",
    "violation_counts = pd.Series(summary)\n",
    "ax = violation_counts.plot(kind='bar', figsize=(10, 6))\n",
    "plt.title('Summary of Rule Violations')\n",
    "plt.xlabel('Rules')\n",
    "plt.ylabel('Number of Violations')\n",
    "\n",
    "# Add percentage labels above the bars\n",
    "for p in ax.patches:\n",
    "    ax.annotate(f'{p.get_height() / len(dirty_iris) * 100:.1f}%', \n",
    "                (p.get_x() + p.get_width() / 2., p.get_height()), \n",
    "                ha='center', va='center', xytext=(0, 10), \n",
    "                textcoords='offset points')\n",
    "\n",
    "plt.show()"
   ]
  },
  {
   "cell_type": "markdown",
   "metadata": {},
   "source": [
    "Find out which observations have too long sepals using the result of violations."
   ]
  },
  {
   "cell_type": "code",
   "execution_count": 97,
   "metadata": {},
   "outputs": [
    {
     "name": "stdout",
     "output_type": "stream",
     "text": [
      "     Sepal.Length  Sepal.Width  Petal.Length  Petal.Width     Species\n",
      "14            NaN          3.9          1.70          0.4      setosa\n",
      "18            NaN          4.0           NaN          0.2      setosa\n",
      "24            NaN          3.0          5.90          2.1   virginica\n",
      "27           73.0         29.0         63.00          NaN   virginica\n",
      "29            NaN          2.8          0.82          1.3  versicolor\n",
      "57            NaN          2.9          4.50          1.5  versicolor\n",
      "67            NaN          3.2          5.70          2.3   virginica\n",
      "113           NaN          3.3          5.70          2.1   virginica\n",
      "118           NaN          3.0          5.50          2.1   virginica\n",
      "119           NaN          2.8          4.70          1.2  versicolor\n",
      "124          49.0         30.0         14.00          2.0      setosa\n",
      "137           NaN          3.0          4.90          1.8   virginica\n"
     ]
    }
   ],
   "source": [
    "# Check for rule violations\n",
    "violations = {rule: ~result for rule, result in rules.items()}\n",
    "# Combine violations into a DataFrame\n",
    "violated_df = pd.DataFrame(violations)\n",
    "violated_rows = dirty_iris[violated_df[\"Sepal.Length <= 30\"]]\n",
    "print(violated_rows)"
   ]
  },
  {
   "cell_type": "markdown",
   "metadata": {},
   "source": [
    "Find outliers in sepal length using boxplot approach. Retrieve the corresponding observations and look at the other values. Any ideas what might have happened? Set the outliers to NA (or a value that you find more appropiate)"
   ]
  },
  {
   "cell_type": "code",
   "execution_count": 98,
   "metadata": {},
   "outputs": [
    {
     "data": {
      "image/png": "[encoded data removed]",
      "text/plain": [
       "<Figure size 720x432 with 1 Axes>"
      ]
     },
     "metadata": {
      "needs_background": "light"
     },
     "output_type": "display_data"
    }
   ],
   "source": [
    "# Boxplot for Sepal.Length\n",
    "plt.figure(figsize=(10, 6))\n",
    "plt.boxplot(dirty_iris['Sepal.Length'].dropna())\n",
    "plt.title('Boxplot of Sepal Length')\n",
    "plt.ylabel('Sepal Length')\n",
    "plt.show()"
   ]
  },
  {
   "cell_type": "code",
   "execution_count": 99,
   "metadata": {},
   "outputs": [
    {
     "name": "stdout",
     "output_type": "stream",
     "text": [
      "Outliers:\n",
      "     Sepal.Length  Sepal.Width  Petal.Length  Petal.Width    Species\n",
      "27           73.0         29.0          63.0          NaN  virginica\n",
      "124          49.0         30.0          14.0          2.0     setosa\n"
     ]
    }
   ],
   "source": [
    "# Find outliers in Sepal.Length\n",
    "outliers = dirty_iris['Sepal.Length'][np.abs(dirty_iris['Sepal.Length'] - dirty_iris['Sepal.Length'].mean()) > (1.5 * dirty_iris['Sepal.Length'].std())]\n",
    "outliers_idx = dirty_iris.index[dirty_iris['Sepal.Length'].isin(outliers)]\n",
    "\n",
    "# Print the rows with outliers\n",
    "print(\"Outliers:\")\n",
    "print(dirty_iris.loc[outliers_idx])"
   ]
  },
  {
   "cell_type": "markdown",
   "metadata": {},
   "source": [
    "They all seem to be too big... may they were measured in mm i.o cm?"
   ]
  },
  {
   "cell_type": "code",
   "execution_count": 100,
   "metadata": {},
   "outputs": [
    {
     "name": "stdout",
     "output_type": "stream",
     "text": [
      "Summary of adjusted data:\n",
      "       Sepal.Length  Sepal.Width  Petal.Length  Petal.Width\n",
      "count    140.000000   133.000000    131.000000   137.000000\n",
      "mean       5.775000     2.991729      3.920954     1.194161\n",
      "std        0.969842     0.708075      2.455417     0.766463\n",
      "min        0.000000    -3.000000      0.000000     0.100000\n",
      "25%        5.100000     2.800000      1.600000     0.300000\n",
      "50%        5.700000     3.000000      4.400000     1.300000\n",
      "75%        6.400000     3.300000      5.100000     1.800000\n",
      "max        7.900000     4.200000     23.000000     2.500000\n"
     ]
    }
   ],
   "source": [
    "# Adjust the outliers (assuming they were measured in mm instead of cm)\n",
    "dirty_iris.loc[outliers_idx, ['Sepal.Length', 'Sepal.Width', 'Petal.Length', 'Petal.Width']] /= 10\n",
    "\n",
    "# Summary of the adjusted data\n",
    "print(\"Summary of adjusted data:\")\n",
    "print(dirty_iris.describe())"
   ]
  },
  {
   "cell_type": "markdown",
   "metadata": {},
   "source": [
    "\n",
    "Note that simple boxplot shows an extra outlier!"
   ]
  },
  {
   "cell_type": "code",
   "execution_count": 101,
   "metadata": {},
   "outputs": [
    {
     "data": {
      "image/png": "[encoded data removed]",
      "text/plain": [
       "<Figure size 720x432 with 1 Axes>"
      ]
     },
     "metadata": {
      "needs_background": "light"
     },
     "output_type": "display_data"
    }
   ],
   "source": [
    "import seaborn as sns\n",
    "plt.figure(figsize=(10, 6))\n",
    "sns.boxplot(x='Species', y='Sepal.Length', data=dirty_iris)\n",
    "plt.title('Boxplot of Sepal Length by Species')\n",
    "plt.xlabel('Species')\n",
    "plt.ylabel('Sepal Length')\n",
    "plt.show()"
   ]
  },
  {
   "cell_type": "markdown",
   "metadata": {},
   "source": [
    "## Correcting\n",
    "\n",
    "Replace non positive values from Sepal.Width with NA:"
   ]
  },
  {
   "cell_type": "code",
   "execution_count": 102,
   "metadata": {},
   "outputs": [
    {
     "name": "stdout",
     "output_type": "stream",
     "text": [
      "     Sepal.Length  Sepal.Width  Petal.Length  Petal.Width     Species\n",
      "0             6.4          3.2           4.5          1.5  versicolor\n",
      "1             6.3          3.3           6.0          2.5   virginica\n",
      "2             6.2          NaN           5.4          2.3   virginica\n",
      "3             5.0          3.4           1.6          0.4      setosa\n",
      "4             5.7          2.6           3.5          1.0  versicolor\n",
      "..            ...          ...           ...          ...         ...\n",
      "145           6.7          3.1           5.6          2.4   virginica\n",
      "146           5.6          3.0           4.5          1.5  versicolor\n",
      "147           5.2          3.5           1.5          0.2      setosa\n",
      "148           6.4          3.1           NaN          1.8   virginica\n",
      "149           5.8          2.6           4.0          NaN  versicolor\n",
      "\n",
      "[150 rows x 5 columns]\n"
     ]
    }
   ],
   "source": [
    "# Define the correction rule\n",
    "def correct_sepal_width(df):\n",
    "    df.loc[(~df['Sepal.Width'].isna()) & (df['Sepal.Width'] <= 0), 'Sepal.Width'] = np.nan\n",
    "    return df\n",
    "\n",
    "# Apply the correction rule to the dataframe\n",
    "mydata_corrected = correct_sepal_width(dirty_iris)\n",
    "\n",
    "# Print the corrected dataframe\n",
    "print(mydata_corrected)"
   ]
  },
  {
   "cell_type": "markdown",
   "metadata": {},
   "source": [
    "Replace all erroneous values with NA using (the result of) localizeErrors:"
   ]
  },
  {
   "cell_type": "code",
   "execution_count": 103,
   "metadata": {},
   "outputs": [],
   "source": [
    "# Apply the rules to the dataframe\n",
    "rules = check_rules(dirty_iris)\n",
    "violations = {rule: ~result for rule, result in rules.items()}\n",
    "violated_df = pd.DataFrame(violations)\n",
    "\n",
    "# Localize errors and set them to NA\n",
    "for col in violated_df.columns:\n",
    "    dirty_iris.loc[violated_df[col], col.split()[0]] = np.nan"
   ]
  },
  {
   "cell_type": "markdown",
   "metadata": {},
   "source": [
    "## NA's pattern detection\n",
    "\n",
    "Here we are going to use **missingno** library to diagnose the missingness pattern for the 'dirty_iris' dataset."
   ]
  },
  {
   "cell_type": "code",
   "execution_count": 104,
   "metadata": {},
   "outputs": [],
   "source": [
    "import missingno as msno"
   ]
  },
  {
   "cell_type": "markdown",
   "metadata": {},
   "source": [
    "### Matrix Plot (msno.matrix):\n",
    "\n",
    "This visualization shows which values are missing in each column. Each bar represents a column, and white spaces in the bars indicate missing values.\n",
    "\n",
    "If you see many white spaces in one column, it means that column has a lot of missing data.\n",
    "If the white spaces are randomly scattered, the missing data might be random. \n",
    "If they are clustered in specific areas, it might indicate a pattern."
   ]
  },
  {
   "cell_type": "code",
   "execution_count": 105,
   "metadata": {},
   "outputs": [
    {
     "data": {
      "image/png": "[encoded data removed]",
      "text/plain": [
       "<Figure size 1800x720 with 2 Axes>"
      ]
     },
     "metadata": {
      "needs_background": "light"
     },
     "output_type": "display_data"
    }
   ],
   "source": [
    "msno.matrix(dirty_iris);"
   ]
  },
  {
   "cell_type": "markdown",
   "metadata": {},
   "source": [
    "### Heatmap Plot (msno.heatmap):\n",
    "\n",
    "This visualization shows the correlations between missing values in different columns.\n",
    "If two columns have a high correlation (dark colors), it means that if one column has missing values, the other column is also likely to have missing values.\n",
    "\n",
    "Low correlations (light colors) indicate that missing values in one column are not related to missing values in another column."
   ]
  },
  {
   "cell_type": "code",
   "execution_count": 106,
   "metadata": {},
   "outputs": [
    {
     "data": {
      "image/png": "[encoded data removed]",
      "text/plain": [
       "<Figure size 1440x864 with 2 Axes>"
      ]
     },
     "metadata": {
      "needs_background": "light"
     },
     "output_type": "display_data"
    }
   ],
   "source": [
    "msno.heatmap(dirty_iris);"
   ]
  },
  {
   "cell_type": "markdown",
   "metadata": {},
   "source": [
    "### Dendrogram Plot (msno.dendrogram):\n",
    "\n",
    "This visualization groups columns based on the similarity of their missing data patterns.\n",
    "Columns that are close to each other in the dendrogram have similar patterns of missing data.\n",
    "\n",
    "This can help identify groups of columns that have similar issues with missing data.\n",
    "\n",
    "Based on these visualizations, we can identify which columns have the most missing data, whether the missing data is random or patterned, and which columns have similar patterns of missing data."
   ]
  },
  {
   "cell_type": "code",
   "execution_count": 107,
   "metadata": {},
   "outputs": [
    {
     "data": {
      "image/png": "[encoded data removed]",
      "text/plain": [
       "<Figure size 1800x720 with 1 Axes>"
      ]
     },
     "metadata": {
      "needs_background": "light"
     },
     "output_type": "display_data"
    }
   ],
   "source": [
    "msno.dendrogram(dirty_iris);"
   ]
  },
  {
   "cell_type": "markdown",
   "metadata": {},
   "source": [
    "*Based on the dendrogram plot, we can interpret the pattern of missing data in the \"dirty iris\" dataset as follows:*\n",
    "\n",
    "**Grouping of Columns:**\n",
    "\n",
    "The dendrogram shows that the columns \"Species\" and \"Petal.Width\" are grouped together, indicating that they have similar patterns of missing data.\n",
    "\n",
    "Similarly, \"Sepal.Width\" and \"Petal.Length\" are grouped together, suggesting they also share a similar pattern of missing data.\n",
    "\n",
    "\"Sepal.Length\" is somewhat separate from the other groups, indicating it has a different pattern of missing data compared to the other columns.\n",
    "\n",
    "**Pattern of Missing Data:**\n",
    "\n",
    "The grouping suggests that missing data in \"Species\" is likely to be associated with missing data in \"Petal.Width\".\n",
    "\n",
    "Similarly, missing data in \"Sepal.Width\" is likely to be associated with missing data in \"Petal.Length\".\n",
    "\n",
    "\"Sepal.Length\" appears to have a distinct pattern of missing data that is not strongly associated with the other columns.\n",
    "\n",
    "*From this dendrogram, we can infer that the missing data is not completely random. Instead, there are specific patterns where certain columns tend to have missing data together. This indicates a systematic pattern of missing data rather than a purely random one.*"
   ]
  },
  {
   "cell_type": "markdown",
   "metadata": {},
   "source": [
    "## Imputing NA's"
   ]
  },
  {
   "cell_type": "markdown",
   "metadata": {},
   "source": [
    "Imputation is the process of estimating or deriving values for fields where data is missing. There is a vast body of literature on imputation methods and it goes beyond the scope of this tutorial to discuss all of them.\n",
    "\n",
    "There is no one single best imputation method that works in all cases. The imputation model of choice depends on what auxiliary information is available and whether there are (multivariate) edit restrictions on the data to be imputed. \n",
    "\n",
    "The availability of Python software for imputation under edit restrictions is, to our best knowledge, limited. However, a viable strategy for imputing numerical data is to first impute missing values without restrictions, and then minimally adjust the imputed values so that the restrictions are obeyed. Separately, these methods are available in Python.\n",
    "\n",
    "We can mention several approaches to imputation:\n",
    "\n",
    "1.  For the **quantitative** variables:\n",
    "\n",
    "-   imputing by **mean**/**median**/**mode**\n",
    "\n",
    "-   **hotdeck** imputation\n",
    "\n",
    "-   **KNN** -- K-nearest-neighbors approach\n",
    "\n",
    "-   **RPART** -- random forests multivariate approach\n",
    "\n",
    "-   **mice** - Multivariate Imputation by Chained Equations approach\n",
    "\n",
    "2.  For the **qualitative** variables:\n",
    "\n",
    "-   imputing by **mode**\n",
    "\n",
    "-   **RPART** -- random forests multivariate approach\n",
    "\n",
    "-   **mice** - Multivariate Imputation by Chained Equations approach\n",
    "\n",
    "    ... and many others. Please read the theoretical background if you are interested in those techniques.\n",
    "\n"
   ]
  },
  {
   "cell_type": "markdown",
   "metadata": {},
   "source": [
    "***Exercise 1.*** Use ***kNN*** imputation ('sklearn' package) to impute all missing values. The KNNImputer from sklearn requires all data to be numeric. Since our dataset contains categorical data (e.g., the Species column), you need to handle these columns separately. One approach is to use one-hot encoding for categorical variables before applying the imputer."
   ]
  },
  {
   "cell_type": "code",
   "execution_count": 108,
   "metadata": {},
   "outputs": [
    {
     "ename": "TypeError",
     "evalue": "__init__() got an unexpected keyword argument 'sparse_output'",
     "output_type": "error",
     "traceback": [
      "\u001b[1;31m---------------------------------------------------------------------------\u001b[0m",
      "\u001b[1;31mTypeError\u001b[0m                                 Traceback (most recent call last)",
      "\u001b[1;32m~\\AppData\\Local\\Temp/ipykernel_26832/1643668415.py\u001b[0m in \u001b[0;36m<module>\u001b[1;34m\u001b[0m\n\u001b[0;32m      8\u001b[0m \u001b[0mcategorical_cols\u001b[0m \u001b[1;33m=\u001b[0m \u001b[0mdirty_iris\u001b[0m\u001b[1;33m.\u001b[0m\u001b[0mselect_dtypes\u001b[0m\u001b[1;33m(\u001b[0m\u001b[0mexclude\u001b[0m\u001b[1;33m=\u001b[0m\u001b[1;33m[\u001b[0m\u001b[0mnp\u001b[0m\u001b[1;33m.\u001b[0m\u001b[0mnumber\u001b[0m\u001b[1;33m]\u001b[0m\u001b[1;33m)\u001b[0m\u001b[1;33m.\u001b[0m\u001b[0mcolumns\u001b[0m\u001b[1;33m\u001b[0m\u001b[1;33m\u001b[0m\u001b[0m\n\u001b[0;32m      9\u001b[0m \u001b[1;31m# One-hot encode categorical columns\u001b[0m\u001b[1;33m\u001b[0m\u001b[1;33m\u001b[0m\u001b[0m\n\u001b[1;32m---> 10\u001b[1;33m \u001b[0mencoder\u001b[0m \u001b[1;33m=\u001b[0m \u001b[0mOneHotEncoder\u001b[0m\u001b[1;33m(\u001b[0m\u001b[0msparse_output\u001b[0m\u001b[1;33m=\u001b[0m\u001b[1;32mFalse\u001b[0m\u001b[1;33m,\u001b[0m \u001b[0mhandle_unknown\u001b[0m\u001b[1;33m=\u001b[0m\u001b[1;34m'ignore'\u001b[0m\u001b[1;33m)\u001b[0m\u001b[1;33m\u001b[0m\u001b[1;33m\u001b[0m\u001b[0m\n\u001b[0m\u001b[0;32m     11\u001b[0m \u001b[1;33m\u001b[0m\u001b[0m\n\u001b[0;32m     12\u001b[0m \u001b[0mencoded_categorical\u001b[0m \u001b[1;33m=\u001b[0m \u001b[0mpd\u001b[0m\u001b[1;33m.\u001b[0m\u001b[0mDataFrame\u001b[0m\u001b[1;33m(\u001b[0m\u001b[0mencoder\u001b[0m\u001b[1;33m.\u001b[0m\u001b[0mfit_transform\u001b[0m\u001b[1;33m(\u001b[0m\u001b[0mdirty_iris\u001b[0m\u001b[1;33m[\u001b[0m\u001b[0mcategorical_cols\u001b[0m\u001b[1;33m]\u001b[0m\u001b[1;33m)\u001b[0m\u001b[1;33m,\u001b[0m \u001b[0mcolumns\u001b[0m\u001b[1;33m=\u001b[0m\u001b[0mencoder\u001b[0m\u001b[1;33m.\u001b[0m\u001b[0mget_feature_names_out\u001b[0m\u001b[1;33m(\u001b[0m\u001b[0mcategorical_cols\u001b[0m\u001b[1;33m)\u001b[0m\u001b[1;33m)\u001b[0m\u001b[1;33m\u001b[0m\u001b[1;33m\u001b[0m\u001b[0m\n",
      "\u001b[1;32m~\\anaconda3\\lib\\site-packages\\sklearn\\utils\\validation.py\u001b[0m in \u001b[0;36minner_f\u001b[1;34m(*args, **kwargs)\u001b[0m\n\u001b[0;32m     61\u001b[0m             \u001b[0mextra_args\u001b[0m \u001b[1;33m=\u001b[0m \u001b[0mlen\u001b[0m\u001b[1;33m(\u001b[0m\u001b[0margs\u001b[0m\u001b[1;33m)\u001b[0m \u001b[1;33m-\u001b[0m \u001b[0mlen\u001b[0m\u001b[1;33m(\u001b[0m\u001b[0mall_args\u001b[0m\u001b[1;33m)\u001b[0m\u001b[1;33m\u001b[0m\u001b[1;33m\u001b[0m\u001b[0m\n\u001b[0;32m     62\u001b[0m             \u001b[1;32mif\u001b[0m \u001b[0mextra_args\u001b[0m \u001b[1;33m<=\u001b[0m \u001b[1;36m0\u001b[0m\u001b[1;33m:\u001b[0m\u001b[1;33m\u001b[0m\u001b[1;33m\u001b[0m\u001b[0m\n\u001b[1;32m---> 63\u001b[1;33m                 \u001b[1;32mreturn\u001b[0m \u001b[0mf\u001b[0m\u001b[1;33m(\u001b[0m\u001b[1;33m*\u001b[0m\u001b[0margs\u001b[0m\u001b[1;33m,\u001b[0m \u001b[1;33m**\u001b[0m\u001b[0mkwargs\u001b[0m\u001b[1;33m)\u001b[0m\u001b[1;33m\u001b[0m\u001b[1;33m\u001b[0m\u001b[0m\n\u001b[0m\u001b[0;32m     64\u001b[0m \u001b[1;33m\u001b[0m\u001b[0m\n\u001b[0;32m     65\u001b[0m             \u001b[1;31m# extra_args > 0\u001b[0m\u001b[1;33m\u001b[0m\u001b[1;33m\u001b[0m\u001b[0m\n",
      "\u001b[1;31mTypeError\u001b[0m: __init__() got an unexpected keyword argument 'sparse_output'"
     ]
    }
   ],
   "source": [
    "from sklearn.impute import KNNImputer\n",
    "from sklearn.preprocessing import OneHotEncoder\n",
    "# Replace infinite values with NaN\n",
    "dirty_iris.replace([np.inf, -np.inf], np.nan, inplace=True)\n",
    "\n",
    "# Separate numeric and categorical columns\n",
    "numeric_cols = dirty_iris.select_dtypes(include=[np.number]).columns\n",
    "categorical_cols = dirty_iris.select_dtypes(exclude=[np.number]).columns\n",
    "# One-hot encode categorical columns\n",
    "encoder = OneHotEncoder(sparse_output=False, handle_unknown='ignore')\n",
    "\n",
    "encoded_categorical = pd.DataFrame(encoder.fit_transform(dirty_iris[categorical_cols]), columns=encoder.get_feature_names_out(categorical_cols))\n",
    "\n",
    "# Combine numeric and encoded categorical columns\n",
    "combined_data = pd.concat([dirty_iris[numeric_cols], encoded_categorical], axis=1)\n",
    "\n",
    "# Initialize the KNNImputer\n",
    "imputer = KNNImputer(n_neighbors=3)\n",
    "\n",
    "# Perform kNN imputation\n",
    "imputed_data = imputer.fit_transform(combined_data)\n",
    "\n",
    "# Convert the imputed data back to a DataFrame\n",
    "imputed_df = pd.DataFrame(imputed_data, columns=combined_data.columns)\n",
    "\n",
    "# Decode the one-hot encoded columns back to original categorical columns\n",
    "decoded_categorical = pd.DataFrame(encoder.inverse_transform(imputed_df[encoded_categorical.columns]), columns=categorical_cols)\n",
    "\n",
    "# Combine numeric and decoded categorical columns\n",
    "final_imputed_data = pd.concat([imputed_df[numeric_cols], decoded_categorical], axis=1)\n",
    "\n",
    "# Print the imputed data\n",
    "print(final_imputed_data)"
   ]
  },
  {
   "cell_type": "markdown",
   "metadata": {},
   "source": [
    "## Transformations\n",
    "\n",
    "Finally, we sometimes encounter the situation where we have problems with skewed distributions or we just want to transform, recode or perform discretization. Let's review some of the most popular transformation methods.\n",
    "\n",
    "First, standardization (also known as normalization):\n",
    "\n",
    "-   **Z-score** approach - standardization procedure, using the formula: $z=\\frac{x-\\mu}{\\sigma}$ where $\\mu$ = mean and $\\sigma$ = standard deviation. Z-scores are also known as standardized scores; they are scores (or data values) that have been given a common *standard*. This standard is a mean of zero and a standard deviation of 1.\n",
    "\n",
    "-   **minmax** approach - An alternative approach to Z-score normalization (or standardization) is the so-called MinMax scaling (often also simply called \"normalization\" - a common cause for ambiguities). In this approach, the data is scaled to a fixed range - usually 0 to 1. The cost of having this bounded range - in contrast to standardization - is that we will end up with smaller standard deviations, which can suppress the effect of outliers. If you would like to perform MinMax scaling - simply substract minimum value and divide it by range:$(x-min)/(max-min)$\n",
    "\n",
    "In order to solve problems with very skewed distributions we can also use several types of simple transformations:\n",
    "\n",
    "-   log\n",
    "-   log+1\n",
    "-   sqrt\n",
    "-   x\\^2\n",
    "-   x\\^3"
   ]
  },
  {
   "cell_type": "markdown",
   "metadata": {},
   "source": [
    "***Exercise 2.*** Standardize incomes and present the transformed distribution of incomes on boxplot."
   ]
  },
  {
   "cell_type": "code",
   "execution_count": 109,
   "metadata": {},
   "outputs": [],
   "source": [
    "# your code goes here"
   ]
  },
  {
   "cell_type": "markdown",
   "metadata": {},
   "source": [
    "## Binning\n",
    "\n",
    "Sometimes we just would like to perform so called 'binning' procedure to be able to analyze our categorical data, to compare several categorical variables, to construct statistical models etc. Thanks to the 'binning' function we can transform quantitative variables into categorical using several methods:\n",
    "\n",
    "-   **quantile** - automatic binning by quantile of its distribution\n",
    "\n",
    "-   **equal** - binning to achieve fixed length of intervals\n",
    "\n",
    "-   **pretty** - a compromise between the 2 mentioned above\n",
    "\n",
    "-   **kmeans** - categorization using the K-Means algorithm\n",
    "\n",
    "-   **bclust** - categorization using the bagged clustering algorithm"
   ]
  },
  {
   "cell_type": "markdown",
   "metadata": {},
   "source": [
    "**Exercise 3.** Using quantile approach perform binning of the variable 'Income'."
   ]
  },
  {
   "cell_type": "code",
   "execution_count": 110,
   "metadata": {},
   "outputs": [],
   "source": [
    "# your code goes here"
   ]
  },
  {
   "cell_type": "markdown",
   "metadata": {},
   "source": [
    "**Exercise 4.** Recode the original distribution of incomes using fixed length of intervals and assign them labels.\n"
   ]
  },
  {
   "cell_type": "code",
   "execution_count": 111,
   "metadata": {},
   "outputs": [],
   "source": [
    "# your code goes here"
   ]
  },
  {
   "cell_type": "markdown",
   "metadata": {},
   "source": [
    "In case of statistical modeling (i.e. credit scoring purposes) - we need to be aware of the fact, that the ***optimal*** discretization of the original distribution must be achieved. The '*binning_by*' function comes with some help here."
   ]
  },
  {
   "cell_type": "markdown",
   "metadata": {},
   "source": [
    "## Optimal binning with binary target"
   ]
  },
  {
   "cell_type": "markdown",
   "metadata": {},
   "source": [
    "**Exercise 5.** Perform discretization of the variable 'Advertising' using optimal binning."
   ]
  },
  {
   "cell_type": "code",
   "execution_count": 112,
   "metadata": {},
   "outputs": [
    {
     "ename": "ModuleNotFoundError",
     "evalue": "No module named 'optbinning'",
     "output_type": "error",
     "traceback": [
      "\u001b[1;31m---------------------------------------------------------------------------\u001b[0m",
      "\u001b[1;31mModuleNotFoundError\u001b[0m                       Traceback (most recent call last)",
      "\u001b[1;32m~\\AppData\\Local\\Temp/ipykernel_26832/2480013223.py\u001b[0m in \u001b[0;36m<module>\u001b[1;34m\u001b[0m\n\u001b[1;32m----> 1\u001b[1;33m \u001b[1;32mfrom\u001b[0m \u001b[0moptbinning\u001b[0m \u001b[1;32mimport\u001b[0m \u001b[0mOptimalBinning\u001b[0m\u001b[1;33m\u001b[0m\u001b[1;33m\u001b[0m\u001b[0m\n\u001b[0m\u001b[0;32m      2\u001b[0m \u001b[1;32mfrom\u001b[0m \u001b[0msklearn\u001b[0m\u001b[1;33m.\u001b[0m\u001b[0mdatasets\u001b[0m \u001b[1;32mimport\u001b[0m \u001b[0mload_breast_cancer\u001b[0m\u001b[1;33m\u001b[0m\u001b[1;33m\u001b[0m\u001b[0m\n\u001b[0;32m      3\u001b[0m \u001b[1;33m\u001b[0m\u001b[0m\n\u001b[0;32m      4\u001b[0m \u001b[0mdata\u001b[0m \u001b[1;33m=\u001b[0m \u001b[0mload_breast_cancer\u001b[0m\u001b[1;33m(\u001b[0m\u001b[1;33m)\u001b[0m\u001b[1;33m\u001b[0m\u001b[1;33m\u001b[0m\u001b[0m\n\u001b[0;32m      5\u001b[0m \u001b[0mdf\u001b[0m \u001b[1;33m=\u001b[0m \u001b[0mpd\u001b[0m\u001b[1;33m.\u001b[0m\u001b[0mDataFrame\u001b[0m\u001b[1;33m(\u001b[0m\u001b[0mdata\u001b[0m\u001b[1;33m.\u001b[0m\u001b[0mdata\u001b[0m\u001b[1;33m,\u001b[0m \u001b[0mcolumns\u001b[0m\u001b[1;33m=\u001b[0m\u001b[0mdata\u001b[0m\u001b[1;33m.\u001b[0m\u001b[0mfeature_names\u001b[0m\u001b[1;33m)\u001b[0m\u001b[1;33m\u001b[0m\u001b[1;33m\u001b[0m\u001b[0m\n",
      "\u001b[1;31mModuleNotFoundError\u001b[0m: No module named 'optbinning'"
     ]
    }
   ],
   "source": [
    "from optbinning import OptimalBinning\n",
    "from sklearn.datasets import load_breast_cancer\n",
    "\n",
    "data = load_breast_cancer()\n",
    "df = pd.DataFrame(data.data, columns=data.feature_names)"
   ]
  },
  {
   "cell_type": "markdown",
   "metadata": {},
   "source": [
    "We choose a variable to discretize and the binary target."
   ]
  },
  {
   "cell_type": "code",
   "execution_count": 113,
   "metadata": {},
   "outputs": [
    {
     "ename": "NameError",
     "evalue": "name 'df' is not defined",
     "output_type": "error",
     "traceback": [
      "\u001b[1;31m---------------------------------------------------------------------------\u001b[0m",
      "\u001b[1;31mNameError\u001b[0m                                 Traceback (most recent call last)",
      "\u001b[1;32m~\\AppData\\Local\\Temp/ipykernel_26832/952937103.py\u001b[0m in \u001b[0;36m<module>\u001b[1;34m\u001b[0m\n\u001b[0;32m      1\u001b[0m \u001b[0mvariable\u001b[0m \u001b[1;33m=\u001b[0m \u001b[1;34m\"mean radius\"\u001b[0m\u001b[1;33m\u001b[0m\u001b[1;33m\u001b[0m\u001b[0m\n\u001b[1;32m----> 2\u001b[1;33m \u001b[0mx\u001b[0m \u001b[1;33m=\u001b[0m \u001b[0mdf\u001b[0m\u001b[1;33m[\u001b[0m\u001b[0mvariable\u001b[0m\u001b[1;33m]\u001b[0m\u001b[1;33m.\u001b[0m\u001b[0mvalues\u001b[0m\u001b[1;33m\u001b[0m\u001b[1;33m\u001b[0m\u001b[0m\n\u001b[0m\u001b[0;32m      3\u001b[0m \u001b[0my\u001b[0m \u001b[1;33m=\u001b[0m \u001b[0mdata\u001b[0m\u001b[1;33m.\u001b[0m\u001b[0mtarget\u001b[0m\u001b[1;33m\u001b[0m\u001b[1;33m\u001b[0m\u001b[0m\n",
      "\u001b[1;31mNameError\u001b[0m: name 'df' is not defined"
     ]
    }
   ],
   "source": [
    "variable = \"mean radius\"\n",
    "x = df[variable].values\n",
    "y = data.target"
   ]
  },
  {
   "cell_type": "markdown",
   "metadata": {},
   "source": [
    "Import and instantiate an OptimalBinning object class. We pass the variable name, its data type, and a solver, in this case, we choose the constraint programming solver."
   ]
  },
  {
   "cell_type": "code",
   "execution_count": 114,
   "metadata": {},
   "outputs": [
    {
     "ename": "NameError",
     "evalue": "name 'OptimalBinning' is not defined",
     "output_type": "error",
     "traceback": [
      "\u001b[1;31m---------------------------------------------------------------------------\u001b[0m",
      "\u001b[1;31mNameError\u001b[0m                                 Traceback (most recent call last)",
      "\u001b[1;32m~\\AppData\\Local\\Temp/ipykernel_26832/3592498794.py\u001b[0m in \u001b[0;36m<module>\u001b[1;34m\u001b[0m\n\u001b[1;32m----> 1\u001b[1;33m \u001b[0moptb\u001b[0m \u001b[1;33m=\u001b[0m \u001b[0mOptimalBinning\u001b[0m\u001b[1;33m(\u001b[0m\u001b[0mname\u001b[0m\u001b[1;33m=\u001b[0m\u001b[0mvariable\u001b[0m\u001b[1;33m,\u001b[0m \u001b[0mdtype\u001b[0m\u001b[1;33m=\u001b[0m\u001b[1;34m\"numerical\"\u001b[0m\u001b[1;33m,\u001b[0m \u001b[0msolver\u001b[0m\u001b[1;33m=\u001b[0m\u001b[1;34m\"cp\"\u001b[0m\u001b[1;33m)\u001b[0m\u001b[1;33m\u001b[0m\u001b[1;33m\u001b[0m\u001b[0m\n\u001b[0m",
      "\u001b[1;31mNameError\u001b[0m: name 'OptimalBinning' is not defined"
     ]
    }
   ],
   "source": [
    "optb = OptimalBinning(name=variable, dtype=\"numerical\", solver=\"cp\")"
   ]
  },
  {
   "cell_type": "markdown",
   "metadata": {},
   "source": [
    "We fit the optimal binning object with arrays x and y."
   ]
  },
  {
   "cell_type": "code",
   "execution_count": 115,
   "metadata": {},
   "outputs": [
    {
     "ename": "NameError",
     "evalue": "name 'optb' is not defined",
     "output_type": "error",
     "traceback": [
      "\u001b[1;31m---------------------------------------------------------------------------\u001b[0m",
      "\u001b[1;31mNameError\u001b[0m                                 Traceback (most recent call last)",
      "\u001b[1;32m~\\AppData\\Local\\Temp/ipykernel_26832/3994782521.py\u001b[0m in \u001b[0;36m<module>\u001b[1;34m\u001b[0m\n\u001b[1;32m----> 1\u001b[1;33m \u001b[0moptb\u001b[0m\u001b[1;33m.\u001b[0m\u001b[0mfit\u001b[0m\u001b[1;33m(\u001b[0m\u001b[0mx\u001b[0m\u001b[1;33m,\u001b[0m \u001b[0my\u001b[0m\u001b[1;33m)\u001b[0m\u001b[1;33m\u001b[0m\u001b[1;33m\u001b[0m\u001b[0m\n\u001b[0m",
      "\u001b[1;31mNameError\u001b[0m: name 'optb' is not defined"
     ]
    }
   ],
   "source": [
    "optb.fit(x, y)"
   ]
  },
  {
   "cell_type": "markdown",
   "metadata": {},
   "source": [
    "You can check if an optimal solution has been found via the status attribute:"
   ]
  },
  {
   "cell_type": "code",
   "execution_count": 116,
   "metadata": {},
   "outputs": [
    {
     "ename": "NameError",
     "evalue": "name 'optb' is not defined",
     "output_type": "error",
     "traceback": [
      "\u001b[1;31m---------------------------------------------------------------------------\u001b[0m",
      "\u001b[1;31mNameError\u001b[0m                                 Traceback (most recent call last)",
      "\u001b[1;32m~\\AppData\\Local\\Temp/ipykernel_26832/4068182288.py\u001b[0m in \u001b[0;36m<module>\u001b[1;34m\u001b[0m\n\u001b[1;32m----> 1\u001b[1;33m \u001b[0moptb\u001b[0m\u001b[1;33m.\u001b[0m\u001b[0mstatus\u001b[0m\u001b[1;33m\u001b[0m\u001b[1;33m\u001b[0m\u001b[0m\n\u001b[0m",
      "\u001b[1;31mNameError\u001b[0m: name 'optb' is not defined"
     ]
    }
   ],
   "source": [
    "optb.status"
   ]
  },
  {
   "cell_type": "markdown",
   "metadata": {},
   "source": [
    "You can also retrieve the optimal split points via the splits attribute:"
   ]
  },
  {
   "cell_type": "code",
   "execution_count": 117,
   "metadata": {},
   "outputs": [
    {
     "ename": "NameError",
     "evalue": "name 'optb' is not defined",
     "output_type": "error",
     "traceback": [
      "\u001b[1;31m---------------------------------------------------------------------------\u001b[0m",
      "\u001b[1;31mNameError\u001b[0m                                 Traceback (most recent call last)",
      "\u001b[1;32m~\\AppData\\Local\\Temp/ipykernel_26832/2215040939.py\u001b[0m in \u001b[0;36m<module>\u001b[1;34m\u001b[0m\n\u001b[1;32m----> 1\u001b[1;33m \u001b[0moptb\u001b[0m\u001b[1;33m.\u001b[0m\u001b[0msplits\u001b[0m\u001b[1;33m\u001b[0m\u001b[1;33m\u001b[0m\u001b[0m\n\u001b[0m",
      "\u001b[1;31mNameError\u001b[0m: name 'optb' is not defined"
     ]
    }
   ],
   "source": [
    "optb.splits"
   ]
  },
  {
   "cell_type": "markdown",
   "metadata": {},
   "source": [
    "The binning table"
   ]
  },
  {
   "cell_type": "markdown",
   "metadata": {},
   "source": [
    "The optimal binning algorithms return a binning table; a binning table displays the binned data and several metrics for each bin. Class OptimalBinning returns an object BinningTable via the binning_table attribute."
   ]
  },
  {
   "cell_type": "code",
   "execution_count": 118,
   "metadata": {},
   "outputs": [
    {
     "ename": "NameError",
     "evalue": "name 'optb' is not defined",
     "output_type": "error",
     "traceback": [
      "\u001b[1;31m---------------------------------------------------------------------------\u001b[0m",
      "\u001b[1;31mNameError\u001b[0m                                 Traceback (most recent call last)",
      "\u001b[1;32m~\\AppData\\Local\\Temp/ipykernel_26832/1290408612.py\u001b[0m in \u001b[0;36m<module>\u001b[1;34m\u001b[0m\n\u001b[1;32m----> 1\u001b[1;33m \u001b[0mbinning_table\u001b[0m \u001b[1;33m=\u001b[0m \u001b[0moptb\u001b[0m\u001b[1;33m.\u001b[0m\u001b[0mbinning_table\u001b[0m\u001b[1;33m\u001b[0m\u001b[1;33m\u001b[0m\u001b[0m\n\u001b[0m\u001b[0;32m      2\u001b[0m \u001b[1;33m\u001b[0m\u001b[0m\n\u001b[0;32m      3\u001b[0m \u001b[0mtype\u001b[0m\u001b[1;33m(\u001b[0m\u001b[0mbinning_table\u001b[0m\u001b[1;33m)\u001b[0m\u001b[1;33m\u001b[0m\u001b[1;33m\u001b[0m\u001b[0m\n",
      "\u001b[1;31mNameError\u001b[0m: name 'optb' is not defined"
     ]
    }
   ],
   "source": [
    "binning_table = optb.binning_table\n",
    "\n",
    "type(binning_table)"
   ]
  },
  {
   "cell_type": "markdown",
   "metadata": {},
   "source": [
    "The binning_table is instantiated, but not built. Therefore, the first step is to call the method build, which returns a pandas.DataFrame."
   ]
  },
  {
   "cell_type": "code",
   "execution_count": 119,
   "metadata": {},
   "outputs": [
    {
     "ename": "NameError",
     "evalue": "name 'binning_table' is not defined",
     "output_type": "error",
     "traceback": [
      "\u001b[1;31m---------------------------------------------------------------------------\u001b[0m",
      "\u001b[1;31mNameError\u001b[0m                                 Traceback (most recent call last)",
      "\u001b[1;32m~\\AppData\\Local\\Temp/ipykernel_26832/2055721872.py\u001b[0m in \u001b[0;36m<module>\u001b[1;34m\u001b[0m\n\u001b[1;32m----> 1\u001b[1;33m \u001b[0mbinning_table\u001b[0m\u001b[1;33m.\u001b[0m\u001b[0mbuild\u001b[0m\u001b[1;33m(\u001b[0m\u001b[1;33m)\u001b[0m\u001b[1;33m\u001b[0m\u001b[1;33m\u001b[0m\u001b[0m\n\u001b[0m",
      "\u001b[1;31mNameError\u001b[0m: name 'binning_table' is not defined"
     ]
    }
   ],
   "source": [
    "binning_table.build()"
   ]
  },
  {
   "cell_type": "markdown",
   "metadata": {},
   "source": [
    "Let’s describe the columns of this binning table:\n",
    "\n",
    "Bin: the intervals delimited by the optimal split points.  \n",
    "Count: the number of records for each bin.  \n",
    "Count (%): the percentage of records for each bin.  \n",
    "Non-event: the number of non-event records (𝑦=0) for each bin.  \n",
    "Event: the number of event records (𝑦=1) for each bin.  \n",
    "Event rate: the percentage of event records for each bin.  \n",
    "WoE: the Weight-of-Evidence for each bin.  \n",
    "IV: the Information Value (also known as Jeffrey’s divergence) for each bin.  \n",
    "JS: the Jensen-Shannon divergence for each bin.  \n",
    "The last row shows the total number of records, non-event records, event records, and IV and JS.    \n",
    "\n",
    "You can use the method plot to visualize the histogram and WoE or event rate curve. Note that the Bin ID corresponds to the binning table index."
   ]
  },
  {
   "cell_type": "code",
   "execution_count": 120,
   "metadata": {},
   "outputs": [
    {
     "ename": "NameError",
     "evalue": "name 'binning_table' is not defined",
     "output_type": "error",
     "traceback": [
      "\u001b[1;31m---------------------------------------------------------------------------\u001b[0m",
      "\u001b[1;31mNameError\u001b[0m                                 Traceback (most recent call last)",
      "\u001b[1;32m~\\AppData\\Local\\Temp/ipykernel_26832/2959933338.py\u001b[0m in \u001b[0;36m<module>\u001b[1;34m\u001b[0m\n\u001b[1;32m----> 1\u001b[1;33m \u001b[0mbinning_table\u001b[0m\u001b[1;33m.\u001b[0m\u001b[0mplot\u001b[0m\u001b[1;33m(\u001b[0m\u001b[0mmetric\u001b[0m\u001b[1;33m=\u001b[0m\u001b[1;34m\"woe\"\u001b[0m\u001b[1;33m)\u001b[0m\u001b[1;33m\u001b[0m\u001b[1;33m\u001b[0m\u001b[0m\n\u001b[0m",
      "\u001b[1;31mNameError\u001b[0m: name 'binning_table' is not defined"
     ]
    }
   ],
   "source": [
    "binning_table.plot(metric=\"woe\")"
   ]
  },
  {
   "cell_type": "code",
   "execution_count": 121,
   "metadata": {},
   "outputs": [
    {
     "ename": "NameError",
     "evalue": "name 'binning_table' is not defined",
     "output_type": "error",
     "traceback": [
      "\u001b[1;31m---------------------------------------------------------------------------\u001b[0m",
      "\u001b[1;31mNameError\u001b[0m                                 Traceback (most recent call last)",
      "\u001b[1;32m~\\AppData\\Local\\Temp/ipykernel_26832/3733603612.py\u001b[0m in \u001b[0;36m<module>\u001b[1;34m\u001b[0m\n\u001b[1;32m----> 1\u001b[1;33m \u001b[0mbinning_table\u001b[0m\u001b[1;33m.\u001b[0m\u001b[0mplot\u001b[0m\u001b[1;33m(\u001b[0m\u001b[0mmetric\u001b[0m\u001b[1;33m=\u001b[0m\u001b[1;34m\"event_rate\"\u001b[0m\u001b[1;33m)\u001b[0m\u001b[1;33m\u001b[0m\u001b[1;33m\u001b[0m\u001b[0m\n\u001b[0m",
      "\u001b[1;31mNameError\u001b[0m: name 'binning_table' is not defined"
     ]
    }
   ],
   "source": [
    "binning_table.plot(metric=\"event_rate\")"
   ]
  },
  {
   "cell_type": "markdown",
   "metadata": {},
   "source": [
    "Note that WoE is inversely related to the event rate, i.e., a monotonically ascending event rate ensures a monotonically descending WoE and vice-versa. We will see more monotonic trend options in the advanced tutorial."
   ]
  },
  {
   "cell_type": "markdown",
   "metadata": {},
   "source": [
    "Read more here: [https://gnpalencia.org/optbinning/tutorials/tutorial_binary.html](https://gnpalencia.org/optbinning/tutorials/tutorial_binary.html)"
   ]
  },
  {
   "cell_type": "markdown",
   "metadata": {},
   "source": [
    "## Working with 'missingno' library"
   ]
  },
  {
   "cell_type": "markdown",
   "metadata": {},
   "source": [
    "<iframe width=\"560\" height=\"315\" src=\"https://www.youtube.com/embed/Wdvwer7h-8w?si=pVqCbOXb4CaCsmnJ\" title=\"YouTube video player\" frameborder=\"0\" allow=\"accelerometer; autoplay; clipboard-write; encrypted-media; gyroscope; picture-in-picture; web-share\" referrerpolicy=\"strict-origin-when-cross-origin\" allowfullscreen></iframe>"
   ]
  },
  {
   "cell_type": "markdown",
   "metadata": {},
   "source": [
    "**Exercise 6.** Your turn! \n",
    "\n",
    "Work with the 'carseats' dataset, find the best way to perform full diagnostic (dirty data, outliers, missing values). Fix problems."
   ]
  },
  {
   "cell_type": "code",
   "execution_count": 122,
   "metadata": {},
   "outputs": [
    {
     "name": "stdout",
     "output_type": "stream",
     "text": [
      "Number of cases without Nan: 370\n",
      "Percentage of cases without Nan: 92.5\n"
     ]
    }
   ],
   "source": [
    "import matplotlib.pyplot as plt\n",
    "#finding missing values\n",
    "\n",
    "\n",
    "without_NaN = carseats.dropna().shape[0]\n",
    "percentage_of_complete = (without_NaN/carseats.shape[0])*100\n",
    "print(f\"Number of cases without Nan: {without_NaN}\")\n",
    "print(f\"Percentage of cases without Nan: {percentage_of_complete}\")\n",
    "carseats_before = carseats.copy()\n"
   ]
  },
  {
   "cell_type": "code",
   "execution_count": 123,
   "metadata": {},
   "outputs": [],
   "source": [
    "#correcting other special values\n",
    "def is_special(x):\n",
    "    if np.issubdtype(x.dtype, np.number):\n",
    "        return ~np.isfinite(x)\n",
    "    else:\n",
    "        return pd.isna(x)\n",
    "\n",
    "# Apply the function to each column and replace special values with NaN\n",
    "for col in carseats.columns:\n",
    "    carseats[col] = carseats[col].apply(lambda x: np.nan if is_special(pd.Series([x]))[0] else x)"
   ]
  },
  {
   "cell_type": "code",
   "execution_count": 124,
   "metadata": {},
   "outputs": [
    {
     "data": {
      "image/png": "[encoded data removed]",
      "text/plain": [
       "<Figure size 1800x720 with 2 Axes>"
      ]
     },
     "metadata": {
      "needs_background": "light"
     },
     "output_type": "display_data"
    },
    {
     "name": "stdout",
     "output_type": "stream",
     "text": [
      "MSNO Matrix : we can see that most of NaN data are located in the Income and Urban columns. The Sales column has only \n",
      "  1 Nan value.\n",
      "\n"
     ]
    },
    {
     "data": {
      "image/png": "[encoded data removed]",
      "text/plain": [
       "<Figure size 1008x432 with 3 Axes>"
      ]
     },
     "metadata": {
      "needs_background": "light"
     },
     "output_type": "display_data"
    },
    {
     "name": "stdout",
     "output_type": "stream",
     "text": [
      "Heatmap : The color we got regarding the heatmap indicates that there are no visible correlation between the Income and Urban \n",
      " columns. The other columns have a correlation of 0 because they have 0 missing values.\n",
      "\n",
      "Dendogram : The dendogram is not really usefull here. As we saw with the heatmap, no visible correlation is present between the two columns with NaNs.\n",
      "\n",
      "Sales > 0: True\n",
      "Age > 0: True\n",
      "Age < 120: True\n",
      "ShelveLoc in ['Good', 'Bad', 'Medium']: True\n",
      "Urban in ['Yes', 'No']: True\n",
      "US in ['Yes', 'No']: True\n",
      "Education > 0: True\n",
      "Education > 30: True\n",
      "Summary of Violations:\n",
      "Sales > 0: 0 violations\n",
      "Age > 0: 0 violations\n",
      "Age < 120: 0 violations\n",
      "ShelveLoc in ['Good', 'Bad', 'Medium']: 0 violations\n",
      "Urban in ['Yes', 'No']: 0 violations\n",
      "US in ['Yes', 'No']: 0 violations\n",
      "Education > 0: 0 violations\n",
      "Education > 30: 0 violations\n"
     ]
    }
   ],
   "source": [
    "# your code goes here\n",
    "def check_rules(df):\n",
    "    rules = {\n",
    "        \"Sales > 0\": df[\"Sales\"].isna() | (df[\"Sales\"] > 0),\n",
    "        \"Age > 0\": df[\"Age\"] > 18,\n",
    "        \"Age < 120\": df[\"Age\"] < 120,\n",
    "        \"ShelveLoc in ['Good', 'Bad', 'Medium']\": df[\"ShelveLoc\"].isin(['Good', 'Medium', 'Bad']),\n",
    "        \"Urban in ['Yes', 'No']\": df[\"Urban\"].isna() | df[\"Urban\"].isin(['Yes', 'No']),\n",
    "        \"US in ['Yes', 'No']\": df[\"US\"].isin(['Yes', 'No']),\n",
    "        \"Education > 0\": df[\"Education\"] > 0,\n",
    "        \"Education > 30\": df[\"Education\"] < 30\n",
    "    }\n",
    "    return rules\n",
    "\n",
    "\n",
    "\n",
    "def correct_sales(df):\n",
    "    df.loc[(~df['Sales'].isna()) & (df['Sales'] <= 0), 'Sales'] = np.nan\n",
    "    return df\n",
    "\n",
    "# correct Urban\n",
    "def correct_urban(df):\n",
    "    df.loc[(~df['Urban'].isin(['Yes', 'No']) & ~df['Urban'].isna()), 'Urban'] = np.nan\n",
    "    return df\n",
    "  \n",
    "    \n",
    "\n",
    "\n",
    "\n",
    "#MSNO Matrix \n",
    "msno.matrix(carseats)\n",
    "plt.title(\"Missing values\")\n",
    "plt.show() \n",
    "print(\"MSNO Matrix : we can see that most of NaN data are located in the Income and Urban columns. The Sales column has only \\n  1 Nan value.\\n\")\n",
    "      \n",
    "    \n",
    "#subplots for display\n",
    "fig, axes = plt.subplots(1, 2, figsize=(14, 6))\n",
    "    \n",
    "# Display Heatmap\n",
    "msno.heatmap(carseats, ax=axes[0])\n",
    "axes[0].set_title(\"Correlation of missing values\")\n",
    "\n",
    "\n",
    "\n",
    "\n",
    "# Dendogram\n",
    "msno.dendrogram(carseats, ax=axes[1])\n",
    "axes[1].set_title(\"Other correlation visualization\")\n",
    "\n",
    "\n",
    "plt.tight_layout()\n",
    "plt.show()\n",
    "\n",
    "print(\"Heatmap : The color we got regarding the heatmap indicates that there are no visible correlation between the Income and Urban \\n columns. The other columns have a correlation of 0 because they have 0 missing values.\\n\")\n",
    "print( \"Dendogram : The dendogram is not really usefull here. As we saw with the heatmap, no visible correlation is present between the two columns with NaNs.\\n\")\n",
    "\n",
    "\n",
    "\n",
    "\n",
    "\n",
    "    \n",
    "carseats = correct_sales(carseats)\n",
    "carseats = correct_urban(carseats)\n",
    "\n",
    "\n",
    "\n",
    "rules = check_rules(carseats)\n",
    "\n",
    "\n",
    "\n",
    "for rule, result in rules.items():\n",
    "    print(f\"{rule}: {result.all()}\")\n",
    "\n",
    "# \n",
    "\n",
    "# Check for rule violations\n",
    "violations = {rule: ~result for rule, result in rules.items()}\n",
    "\n",
    "# Summarize the violations\n",
    "summary = {rule: result.sum() for rule, result in violations.items()}\n",
    "\n",
    "# Print the summary of violations\n",
    "\n",
    "print(\"Summary of Violations:\")\n",
    "for rule, count in summary.items():\n",
    "    print(f\"{rule}: {count} violations\")"
   ]
  },
  {
   "cell_type": "code",
   "execution_count": null,
   "metadata": {},
   "outputs": [],
   "source": []
  }
 ],
 "metadata": {
  "kernelspec": {
   "display_name": "Python 3 (ipykernel)",
   "language": "python",
   "name": "python3"
  },
  "language_info": {
   "codemirror_mode": {
    "name": "ipython",
    "version": 3
   },
   "file_extension": ".py",
   "mimetype": "text/x-python",
   "name": "python",
   "nbconvert_exporter": "python",
   "pygments_lexer": "ipython3",
   "version": "3.9.7"
  }
 },
 "nbformat": 4,
 "nbformat_minor": 2
}
